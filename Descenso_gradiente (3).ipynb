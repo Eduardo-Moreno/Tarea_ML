{
 "cells": [
  {
   "cell_type": "code",
   "execution_count": 11,
   "metadata": {},
   "outputs": [],
   "source": [
    "import numpy as np\n",
    "import pandas as pd\n",
    "import matplotlib.pyplot as plt\n",
    "from matplotlib.colors import ListedColormap"
   ]
  },
  {
   "cell_type": "code",
   "execution_count": 12,
   "metadata": {},
   "outputs": [],
   "source": [
    "# Lectura de datos\n",
    "data = pd.read_csv('iris.data',header=None)\n",
    "data.columns = ['Sepal.length', 'Sepal.width', 'Petal.length', 'Petal.width', 'Species']"
   ]
  },
  {
   "cell_type": "code",
   "execution_count": 44,
   "metadata": {},
   "outputs": [],
   "source": [
    "# Función de pérdida\n",
    "X = data[['Sepal.length', 'Sepal.width']]\n",
    "Y = data[['Species']]\n",
    "\n",
    "def classificador(x, y, theta, theta_0, tipo):\n",
    "    z = y*(np.dot(x, theta) + theta_0)\n",
    "    if z < 1.0:\n",
    "        z = -1\n",
    "    else:\n",
    "        z = 0\n",
    "    \n",
    "    if tipo == 1:\n",
    "        z = z*y*x\n",
    "    else:\n",
    "        z = z*y\n",
    "    \n",
    "    return z\n",
    "\n",
    "def loess(X, Y, theta, theta_0, etha, lamb):\n",
    "    nr, nc = X.shape\n",
    "    suma_theta = 0\n",
    "    suma_theta_0 = 0\n",
    "    for i in range(nr):\n",
    "        specie = Y.loc[i][0]\n",
    "        # Positivo: Setosa, Negativo: el resto\n",
    "        if specie == 'Iris-setosa':\n",
    "            y = 1\n",
    "        else:\n",
    "            y = -1\n",
    "        suma_theta +=  classificador(X.loc[i], y, theta, theta_0, tipo = 1)\n",
    "        suma_theta_0 +=  classificador(X.loc[i], y, theta, theta_0, tipo = 2)\n",
    "    \n",
    "    theta = theta - etha*(1/nr)*suma_theta + lamb*theta\n",
    "    theta_0 = theta_0 - etha*(1/nr)*suma_theta_0\n",
    "    \n",
    "    return theta, theta_0\n",
    "\n",
    "def jacob(X, Y, theta, theta_0, lamb):\n",
    "    nr, nc = X.shape\n",
    "    suma_jac = 0\n",
    "    for i in range(nr):\n",
    "        specie = Y.loc[i][0]\n",
    "        # Positivo: Setosa, Negativo: el resto\n",
    "        if specie == 'Iris-setosa':\n",
    "            y = 1\n",
    "        else:\n",
    "            y = -1\n",
    "        v = y*(np.dot(X.loc[i], theta) + theta_0)\n",
    "        if v < 1.0:\n",
    "            L = 1-v\n",
    "        else:\n",
    "            L = 0\n",
    "        suma_jac += L\n",
    "    \n",
    "    jac = 1/nr*suma_jac + lamb/2*np.dot(theta, theta)\n",
    "    return jac\n",
    "\n",
    "def descenso_gradiente(X, Y, theta, theta_0, etha, lamb, MAX = 100, tol = 1e-5):\n",
    "    t = 0\n",
    "    error = 10\n",
    "    while (error >= tol) or (t < MAX):\n",
    "        t += 1\n",
    "        theta_act, theta_0_act = loess(X, Y, theta, theta_0, etha, lamb)\n",
    "        error = abs(jacob(X, Y, theta_act, theta_0_act, lamb) - jacob(X, Y, theta, theta_0, lamb))\n",
    "        print('Error: ', error)\n",
    "        print('Iteracion: ', t)\n",
    "        theta = theta_act\n",
    "        theta_0 = theta_0_act\n",
    "    \n",
    "    \n",
    "    return theta_act, theta_0_act"
   ]
  },
  {
   "cell_type": "code",
   "execution_count": null,
   "metadata": {},
   "outputs": [],
   "source": [
    "descenso_gradiente(X, Y, theta, theta_0, etha, lamb, MAX = 1000, tol = 1e-5)\n",
    "#r,m = loess(X, Y, theta, theta_0, etha, lamb)"
   ]
  }
 ],
 "metadata": {
  "kernelspec": {
   "display_name": "Python 3",
   "language": "python",
   "name": "python3"
  },
  "language_info": {
   "codemirror_mode": {
    "name": "ipython",
    "version": 3
   },
   "file_extension": ".py",
   "mimetype": "text/x-python",
   "name": "python",
   "nbconvert_exporter": "python",
   "pygments_lexer": "ipython3",
   "version": "3.6.9"
  }
 },
 "nbformat": 4,
 "nbformat_minor": 4
}
