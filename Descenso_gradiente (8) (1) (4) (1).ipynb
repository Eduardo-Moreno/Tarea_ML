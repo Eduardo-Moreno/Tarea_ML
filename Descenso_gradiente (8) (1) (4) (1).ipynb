{
 "cells": [
  {
   "cell_type": "code",
   "execution_count": 1,
   "metadata": {},
   "outputs": [],
   "source": [
    "import numpy as np\n",
    "import pandas as pd\n",
    "import matplotlib.pyplot as plt\n",
    "from matplotlib.colors import ListedColormap\n",
    "from random import seed\n",
    "from random import randrange\n",
    "import seaborn as sns"
   ]
  },
  {
   "cell_type": "code",
   "execution_count": 2,
   "metadata": {},
   "outputs": [
    {
     "data": {
      "text/html": [
       "<div>\n",
       "<style scoped>\n",
       "    .dataframe tbody tr th:only-of-type {\n",
       "        vertical-align: middle;\n",
       "    }\n",
       "\n",
       "    .dataframe tbody tr th {\n",
       "        vertical-align: top;\n",
       "    }\n",
       "\n",
       "    .dataframe thead th {\n",
       "        text-align: right;\n",
       "    }\n",
       "</style>\n",
       "<table border=\"1\" class=\"dataframe\">\n",
       "  <thead>\n",
       "    <tr style=\"text-align: right;\">\n",
       "      <th></th>\n",
       "      <th>sepal_length</th>\n",
       "      <th>sepal_width</th>\n",
       "      <th>petal_length</th>\n",
       "      <th>petal_width</th>\n",
       "      <th>species</th>\n",
       "    </tr>\n",
       "  </thead>\n",
       "  <tbody>\n",
       "    <tr>\n",
       "      <th>0</th>\n",
       "      <td>5.1</td>\n",
       "      <td>3.5</td>\n",
       "      <td>1.4</td>\n",
       "      <td>0.2</td>\n",
       "      <td>setosa</td>\n",
       "    </tr>\n",
       "    <tr>\n",
       "      <th>1</th>\n",
       "      <td>4.9</td>\n",
       "      <td>3.0</td>\n",
       "      <td>1.4</td>\n",
       "      <td>0.2</td>\n",
       "      <td>setosa</td>\n",
       "    </tr>\n",
       "    <tr>\n",
       "      <th>2</th>\n",
       "      <td>4.7</td>\n",
       "      <td>3.2</td>\n",
       "      <td>1.3</td>\n",
       "      <td>0.2</td>\n",
       "      <td>setosa</td>\n",
       "    </tr>\n",
       "    <tr>\n",
       "      <th>3</th>\n",
       "      <td>4.6</td>\n",
       "      <td>3.1</td>\n",
       "      <td>1.5</td>\n",
       "      <td>0.2</td>\n",
       "      <td>setosa</td>\n",
       "    </tr>\n",
       "    <tr>\n",
       "      <th>4</th>\n",
       "      <td>5.0</td>\n",
       "      <td>3.6</td>\n",
       "      <td>1.4</td>\n",
       "      <td>0.2</td>\n",
       "      <td>setosa</td>\n",
       "    </tr>\n",
       "  </tbody>\n",
       "</table>\n",
       "</div>"
      ],
      "text/plain": [
       "   sepal_length  sepal_width  petal_length  petal_width species\n",
       "0           5.1          3.5           1.4          0.2  setosa\n",
       "1           4.9          3.0           1.4          0.2  setosa\n",
       "2           4.7          3.2           1.3          0.2  setosa\n",
       "3           4.6          3.1           1.5          0.2  setosa\n",
       "4           5.0          3.6           1.4          0.2  setosa"
      ]
     },
     "execution_count": 2,
     "metadata": {},
     "output_type": "execute_result"
    }
   ],
   "source": [
    "# Lectura de datos\n",
    "data = sns.load_dataset('iris')\n",
    "data.head(5)"
   ]
  },
  {
   "cell_type": "code",
   "execution_count": 3,
   "metadata": {},
   "outputs": [],
   "source": [
    "# Cambiar ajuste de datos para clasificar setosa\n",
    "data['categoria'] = [1 if x =='setosa' else -1 for x in data['species']] "
   ]
  },
  {
   "cell_type": "code",
   "execution_count": 4,
   "metadata": {},
   "outputs": [],
   "source": [
    "# Función clasifica\n",
    "def clasifica(X, Y, theta, theta_0):\n",
    "    \n",
    "    \"\"\" Funcion que realiza la evaluacion de la prediccion contra las eitquetas:\n",
    "    theta - parametro theta\n",
    "    theta_0 - parametro theta0\n",
    "    X - vector de características a clasificar\n",
    "    Y - vector de etiquetas de las características (-1 o 1)    \n",
    "\n",
    "    Outputs:\n",
    "    value = -1 en caso de tener una clasificacion erronea. 0 eoc\n",
    "    \"\"\"\n",
    "    \n",
    "    if Y*(np.dot(theta,np.transpose(X)) + theta_0) < 1 :\n",
    "        value = -1\n",
    "    else:\n",
    "        value = 0\n",
    "\n",
    "    return value"
   ]
  },
  {
   "cell_type": "code",
   "execution_count": 5,
   "metadata": {},
   "outputs": [],
   "source": [
    "def loess(X, Y, theta, theta_0):\n",
    "    \"\"\" Funcion que realiza la evaluacion en en la funcion de perdida:\n",
    "    X - vector de características a clasificar\n",
    "    Y - vector de etiquetas de las características (-1 o 1)        \n",
    "    theta - parametro theta\n",
    "    theta_0 - parametro theta0\n",
    "\n",
    "    Outputs:\n",
    "    value= valor de perdida\n",
    "     \"\"\"\n",
    "    \n",
    "    suma = 0\n",
    "    H = 0\n",
    "    n = X.shape[0]\n",
    "    \n",
    "    for i in range(n):\n",
    "        H = Y[i]*(np.dot(theta, X[i]) + theta_0)\n",
    "        if H >= 1:\n",
    "            suma += 0\n",
    "        else:\n",
    "            suma += (1-H)\n",
    "            \n",
    "    return suma"
   ]
  },
  {
   "cell_type": "code",
   "execution_count": 6,
   "metadata": {},
   "outputs": [],
   "source": [
    "def jacob(X, Y, theta, theta_0, lamb):\n",
    "    \"\"\" Funcion que realiza la evaluacionen de la clasiificaciòn lineal con margen como optimizacion\n",
    "    X - vector de características a clasificar\n",
    "    Y - vector de etiquetas de las características (-1 o 1)        \n",
    "    theta- parametro theta\n",
    "    theta0 - parametro theta0\n",
    "    lamb - parametro de regularizacion\n",
    "\n",
    "    Outputs:\n",
    "    value = valor del jacobiano\n",
    "     \"\"\"\n",
    "    \n",
    "    n = X.shape[0]\n",
    "    jac = loess(X, Y, theta, theta_0)/n + (lamb/2.0)*np.linalg.norm(theta)\n",
    "\n",
    "    return jac"
   ]
  },
  {
   "cell_type": "code",
   "execution_count": 14,
   "metadata": {},
   "outputs": [],
   "source": [
    "# Función para descenso por gradiente\n",
    "def SVM(X, Y, theta, theta_0, etha, lamb, eps = 1e-8, MAX = 5000):\n",
    "    \"\"\" Funcion que realiza el aglrotimo de Support Vector Machine - Descenso en Gradiente\n",
    "    Inputs:\n",
    "    X - vector de características a clasificar\n",
    "    Y - vector de etiquetas de las características (-1 o 1)    \n",
    "    theta - incializacion de parametro theta\n",
    "    theta_0 - inicializacion de parametro theta0\n",
    "    etha - tasa de aprendizaje\n",
    "    lamb - parametro de regularizacion\n",
    "    \n",
    "    Outputs:\n",
    "    tetha = vector para formar el plano\n",
    "    tetha_0 = escalar para desplazar el plano \n",
    "    \"\"\"\n",
    "    \n",
    "    n = X.shape[0]\n",
    "    sum_theta = 0\n",
    "    sum_theta_0 = 0\n",
    "    error = 10\n",
    "    t = 0\n",
    "    \n",
    "    while error >= eps and t < MAX:\n",
    "        # Guardar parametros en tiempo: t-1\n",
    "        theta_old = theta\n",
    "        theta_0_old = theta_0\n",
    "        \n",
    "        # Evaluacion de la suma para la actualizacion el descenso por gradiente\n",
    "        for i in range(n):\n",
    "            sum_theta += clasifica(X[i], Y[i], theta, theta_0)*Y[i]*X[i]\n",
    "            sum_theta_0 += clasifica(X[i], Y[i], theta, theta_0)*Y[i]\n",
    "        \n",
    "        # Descenso por gradiente\n",
    "        theta = theta - etha*((sum_theta/n) + lamb*theta)\n",
    "        theta_0= theta_0 - etha*((sum_theta_0/n))\n",
    "        \n",
    "        # Calculo del error\n",
    "        error = abs(jacob(X, Y, theta, theta_0, lamb) - jacob(X, Y, theta_old, theta_0_old, lamb))\n",
    "        t += 1\n",
    "    \n",
    "    jac = jacob(X, Y, theta, theta_0, lamb)\n",
    "    return theta, theta_0, t, error, jac"
   ]
  },
  {
   "cell_type": "code",
   "execution_count": 47,
   "metadata": {},
   "outputs": [],
   "source": [
    "def error(X, Y, theta, theta_0):\n",
    "    \"\"\" Funcion que calcula el error\n",
    "    \n",
    "    Inputs:\n",
    "    X - vector de caracteristicas numericas\n",
    "    y - vector de etiquetas de las características (-1 o 1)\n",
    "    Nota: se asume que X y y tienen la misma cantidad de registros\n",
    "    \n",
    "    theta = vector para formar el plano\n",
    "    theta_0 = escalar para desplazar el plano (sesgo)\n",
    "    \n",
    "    Outputs:\n",
    "    ee - error promedio de las observaciones que son mal clasificadas\n",
    "    \n",
    "    \"\"\"\n",
    "    \n",
    "    n = len(X)\n",
    "    suma = 0\n",
    "    ee = 0\n",
    "    \n",
    "    for i in np.arange(n):\n",
    "        clasificador = Y[i]*((np.dot(theta,x[i])) + theta_0)\n",
    "        if clasificador <= 0:\n",
    "            suma += 1         \n",
    "    ee += suma/n\n",
    "    return ee"
   ]
  },
  {
   "cell_type": "code",
   "execution_count": 119,
   "metadata": {},
   "outputs": [],
   "source": [
    "def SGD(X, Y, lamb, eps = 1e-8, T = 5000):\n",
    "    \"\"\" Funcion que los parámetros del modelo perceptron \n",
    "    Inputs:\n",
    "    X_array - arreglo de caracteristicas numericas\n",
    "    y_array - arreglo etiquetas de las características (-1 o 1)\n",
    "    Nota: se asume que X y y tienen la misma cantidad de registros\n",
    "    \n",
    "    T -  Número de iteraciones\n",
    "    lambda_ - Párametro lambda \n",
    "    \n",
    "    Outputs:\n",
    "    theta_t - parámetro theta e intercepto (theta_t[-1])\n",
    "    \n",
    "    \"\"\"\n",
    "    \n",
    "    #n = X.shape[0]\n",
    "    #ones = np.matrix(np.ones((X.shape[0], 1)))\n",
    "    #X = np.append(X, ones, axis=1)\n",
    "    #Y = np.matrix(Y).reshape(Y.shape[0],1)\n",
    "    t = 0\n",
    "    #error = 10\n",
    "    #theta_t=np.matrix(np.zeros(X.shape[1]))\n",
    "    \n",
    "    \n",
    "    n = X.shape[0]\n",
    "    X = np.matrix(X)\n",
    "    ones = np.matrix(np.ones((X.shape[0],1)))\n",
    "    X = np.append(X, ones, axis=1)\n",
    "    Y = np.matrix(Y).reshape(Y.shape[0],1)\n",
    "    theta_t = np.matrix(np.zeros(X.shape[1]))\n",
    "    \n",
    "    #while error >= eps and t <= T:\n",
    "    while t <= T:\n",
    "        # Guardar parametros en tiempo: t-1\n",
    "        theta_old = theta\n",
    "        \n",
    "        i = np.random.randint(n)\n",
    "        etha = 1/(t+1)\n",
    "        theta_t = np.squeeze(np.asarray(theta_t))\n",
    "        x_i = np.squeeze(np.asarray(X[i]))\n",
    "        theta_t = theta_t - etha*((np.dot(theta_t, x_i) - Y[i])*x_i + (lamb/n)*theta_t)\n",
    "        t += 1\n",
    "        \n",
    "        # Calculo del error\n",
    "        # error = abs(jacob(X, Y, theta, theta_0, lamb) - jacob(X, Y, theta_old, theta_0_old, lamb))\n",
    "        \n",
    "    return np.array(theta_t), t"
   ]
  },
  {
   "cell_type": "code",
   "execution_count": 120,
   "metadata": {},
   "outputs": [],
   "source": [
    "def CV_SGD(D, k, lamb):\n",
    "    \"\"\" Funcion que realiza la validación cruzada para determinar con que hiperprámetros se minimiza el error\n",
    "    Inputs:\n",
    "    df - Data frame del conjunto de entrenamiento\n",
    "    k - El número de subcojunto de datos en el cual se desea dividir el set de train\n",
    "\n",
    "    Outputs:\n",
    "    resultados - Un data frame que arroja los errores para cada k \n",
    "    \"\"\"\n",
    "    \n",
    "    error = []\n",
    "    n = D.shape[0]\n",
    "    n = int((n / k))\n",
    "    \n",
    "    for i in range (0,k):\n",
    "        init = n*i\n",
    "        fin = n*(1+i)\n",
    "        test_i = D.iloc[init:fin,:]\n",
    "        train_i = D.drop(test_i.index)\n",
    "        \n",
    "        # Calcular theta y theta_0 con SGD y train\n",
    "        X = train_i.iloc[:,0:4]\n",
    "        Y = train_i.iloc[:,5]\n",
    "        theta_t = SGD(X = X, Y = Y, lamb = lamb)\n",
    "        theta = theta_t[0,0:-1]\n",
    "        theta_0 = theta_t[0,-1]\n",
    "        \n",
    "        #Se calcula el error en esa primer corrida\n",
    "        X = test_i.iloc[:,0:4]   #Columna con las 4 características\n",
    "        Y = testi_i.iloc[:,5]    #Columna con el vector de etiquetas\n",
    "        e_i = error(X = X, Y = Y, theta = theta, theta_0 = theta_0)\n",
    "        error.append(e_i)\n",
    "    \n",
    "    error_promedio = np.mean(error)\n",
    "\n",
    "    return error_promedio"
   ]
  },
  {
   "cell_type": "code",
   "execution_count": 121,
   "metadata": {},
   "outputs": [],
   "source": [
    "# Separar datos para prueba y entrenamiento\n",
    "train = data.sample(frac = 0.8, random_state = 2020) # Fijamos la semilla con random_state\n",
    "test = data.drop(train.index)\n",
    "\n",
    "# Extraer variables para la clasificación\n",
    "data_vars = train.iloc[:,0:4]\n",
    "vars_train = data_vars.to_numpy()\n",
    "data_labels = train.iloc[:,5]\n",
    "labels_train = data_labels.to_numpy()\n",
    "\n",
    "theta = np.array([0.0, 0.0, 0.0, 0.0])\n",
    "theta_0 = 0.0\n",
    "etha = 0.0001\n",
    "lamb = 0.0001"
   ]
  },
  {
   "cell_type": "code",
   "execution_count": 122,
   "metadata": {},
   "outputs": [
    {
     "ename": "TypeError",
     "evalue": "tuple indices must be integers or slices, not tuple",
     "output_type": "error",
     "traceback": [
      "\u001b[0;31m---------------------------------------------------------------------------\u001b[0m",
      "\u001b[0;31mTypeError\u001b[0m                                 Traceback (most recent call last)",
      "\u001b[0;32m<ipython-input-122-1c090cc6d609>\u001b[0m in \u001b[0;36m<module>\u001b[0;34m\u001b[0m\n\u001b[1;32m      3\u001b[0m \u001b[0mlambdas\u001b[0m \u001b[0;34m=\u001b[0m \u001b[0;34m[\u001b[0m\u001b[0;36m0.0001\u001b[0m\u001b[0;34m,\u001b[0m \u001b[0;36m0.0005\u001b[0m\u001b[0;34m,\u001b[0m \u001b[0;36m0.001\u001b[0m\u001b[0;34m,\u001b[0m \u001b[0;36m0.005\u001b[0m\u001b[0;34m,\u001b[0m \u001b[0;36m0.01\u001b[0m\u001b[0;34m,\u001b[0m \u001b[0;36m0.05\u001b[0m\u001b[0;34m,\u001b[0m \u001b[0;36m0.1\u001b[0m\u001b[0;34m,\u001b[0m \u001b[0;36m0.5\u001b[0m\u001b[0;34m,\u001b[0m \u001b[0;36m0.1\u001b[0m\u001b[0;34m]\u001b[0m\u001b[0;34m\u001b[0m\u001b[0;34m\u001b[0m\u001b[0m\n\u001b[1;32m      4\u001b[0m \u001b[0;32mfor\u001b[0m \u001b[0mlamb\u001b[0m \u001b[0;32min\u001b[0m \u001b[0mlambdas\u001b[0m\u001b[0;34m:\u001b[0m\u001b[0;34m\u001b[0m\u001b[0;34m\u001b[0m\u001b[0m\n\u001b[0;32m----> 5\u001b[0;31m     \u001b[0merror_sgd\u001b[0m\u001b[0;34m.\u001b[0m\u001b[0mappend\u001b[0m\u001b[0;34m(\u001b[0m\u001b[0mCV_SGD\u001b[0m\u001b[0;34m(\u001b[0m\u001b[0mD\u001b[0m \u001b[0;34m=\u001b[0m \u001b[0mtrain\u001b[0m\u001b[0;34m,\u001b[0m \u001b[0mk\u001b[0m \u001b[0;34m=\u001b[0m \u001b[0;36m5\u001b[0m\u001b[0;34m,\u001b[0m \u001b[0mlamb\u001b[0m \u001b[0;34m=\u001b[0m \u001b[0mlamb\u001b[0m\u001b[0;34m)\u001b[0m\u001b[0;34m)\u001b[0m\u001b[0;34m\u001b[0m\u001b[0;34m\u001b[0m\u001b[0m\n\u001b[0m\u001b[1;32m      6\u001b[0m \u001b[0;34m\u001b[0m\u001b[0m\n\u001b[1;32m      7\u001b[0m \u001b[0mprint\u001b[0m\u001b[0;34m(\u001b[0m\u001b[0merrors_sgd\u001b[0m\u001b[0;34m)\u001b[0m\u001b[0;34m\u001b[0m\u001b[0;34m\u001b[0m\u001b[0m\n",
      "\u001b[0;32m<ipython-input-120-a8662cd5fd52>\u001b[0m in \u001b[0;36mCV_SGD\u001b[0;34m(D, k, lamb)\u001b[0m\n\u001b[1;32m     23\u001b[0m         \u001b[0mY\u001b[0m \u001b[0;34m=\u001b[0m \u001b[0mtrain_i\u001b[0m\u001b[0;34m.\u001b[0m\u001b[0miloc\u001b[0m\u001b[0;34m[\u001b[0m\u001b[0;34m:\u001b[0m\u001b[0;34m,\u001b[0m\u001b[0;36m5\u001b[0m\u001b[0;34m]\u001b[0m\u001b[0;34m\u001b[0m\u001b[0;34m\u001b[0m\u001b[0m\n\u001b[1;32m     24\u001b[0m         \u001b[0mtheta_t\u001b[0m \u001b[0;34m=\u001b[0m \u001b[0mSGD\u001b[0m\u001b[0;34m(\u001b[0m\u001b[0mX\u001b[0m \u001b[0;34m=\u001b[0m \u001b[0mX\u001b[0m\u001b[0;34m,\u001b[0m \u001b[0mY\u001b[0m \u001b[0;34m=\u001b[0m \u001b[0mY\u001b[0m\u001b[0;34m,\u001b[0m \u001b[0mlamb\u001b[0m \u001b[0;34m=\u001b[0m \u001b[0mlamb\u001b[0m\u001b[0;34m)\u001b[0m\u001b[0;34m\u001b[0m\u001b[0;34m\u001b[0m\u001b[0m\n\u001b[0;32m---> 25\u001b[0;31m         \u001b[0mtheta\u001b[0m \u001b[0;34m=\u001b[0m \u001b[0mtheta_t\u001b[0m\u001b[0;34m[\u001b[0m\u001b[0;36m0\u001b[0m\u001b[0;34m,\u001b[0m\u001b[0;36m0\u001b[0m\u001b[0;34m:\u001b[0m\u001b[0;34m-\u001b[0m\u001b[0;36m1\u001b[0m\u001b[0;34m]\u001b[0m\u001b[0;34m\u001b[0m\u001b[0;34m\u001b[0m\u001b[0m\n\u001b[0m\u001b[1;32m     26\u001b[0m         \u001b[0mtheta_0\u001b[0m \u001b[0;34m=\u001b[0m \u001b[0mtheta_t\u001b[0m\u001b[0;34m[\u001b[0m\u001b[0;36m0\u001b[0m\u001b[0;34m,\u001b[0m\u001b[0;34m-\u001b[0m\u001b[0;36m1\u001b[0m\u001b[0;34m]\u001b[0m\u001b[0;34m\u001b[0m\u001b[0;34m\u001b[0m\u001b[0m\n\u001b[1;32m     27\u001b[0m \u001b[0;34m\u001b[0m\u001b[0m\n",
      "\u001b[0;31mTypeError\u001b[0m: tuple indices must be integers or slices, not tuple"
     ]
    }
   ],
   "source": [
    "# Probar SGD\n",
    "error_sgd = []\n",
    "lambdas = [0.0001, 0.0005, 0.001, 0.005, 0.01, 0.05, 0.1, 0.5, 0.1]\n",
    "for lamb in lambdas:\n",
    "    error_sgd.append(CV_SGD(D = train, k = 5, lamb = lamb))\n",
    "\n",
    "print(errors_sgd)"
   ]
  },
  {
   "cell_type": "code",
   "execution_count": 97,
   "metadata": {},
   "outputs": [],
   "source": [
    "theta_opt, theta_0_opt, t, error, jac = SVM(X = vars_train, Y = labels_train, theta = theta, \n",
    "                                            theta_0 = theta_0, etha = etha, lamb = lamb)"
   ]
  },
  {
   "cell_type": "code",
   "execution_count": 27,
   "metadata": {},
   "outputs": [
    {
     "name": "stdout",
     "output_type": "stream",
     "text": [
      "Num iteraciones:  5000\n",
      "Error de aprox:  7.052974922466988e-07\n",
      "Jacobiano de aprox:  0.0034621843893957614\n"
     ]
    }
   ],
   "source": [
    "print('Num iteraciones: ', t)\n",
    "print('Error de aprox: ', error)\n",
    "print('Jacobiano de aprox: ', jac)"
   ]
  },
  {
   "cell_type": "code",
   "execution_count": 46,
   "metadata": {},
   "outputs": [],
   "source": [
    "theta_sgd,t = SGD(X = vars_train, Y = labels_train, lamb = lamb, eps = 1e-8, T = 5000)"
   ]
  },
  {
   "cell_type": "code",
   "execution_count": 45,
   "metadata": {},
   "outputs": [
    {
     "name": "stdout",
     "output_type": "stream",
     "text": [
      "[[ 1.36836456e+15 -1.70663671e+15 -6.23471558e+14 -1.75923630e+14]]\n",
      "501\n"
     ]
    }
   ],
   "source": [
    "print(theta_sgd)\n",
    "print(t)"
   ]
  },
  {
   "cell_type": "code",
   "execution_count": 79,
   "metadata": {},
   "outputs": [],
   "source": [
    "i = 0\n",
    "D = train\n",
    "n = D.shape[0]\n",
    "k = 5\n",
    "n = int((n / k))"
   ]
  },
  {
   "cell_type": "code",
   "execution_count": 98,
   "metadata": {},
   "outputs": [
    {
     "ename": "ValueError",
     "evalue": "shapes (1,5) and (1,5) not aligned: 5 (dim 1) != 1 (dim 0)",
     "output_type": "error",
     "traceback": [
      "\u001b[0;31m---------------------------------------------------------------------------\u001b[0m",
      "\u001b[0;31mValueError\u001b[0m                                Traceback (most recent call last)",
      "\u001b[0;32m<ipython-input-98-fa9ea67b584b>\u001b[0m in \u001b[0;36m<module>\u001b[0;34m\u001b[0m\n\u001b[1;32m      7\u001b[0m \u001b[0mX\u001b[0m \u001b[0;34m=\u001b[0m \u001b[0mtrain_i\u001b[0m\u001b[0;34m.\u001b[0m\u001b[0miloc\u001b[0m\u001b[0;34m[\u001b[0m\u001b[0;34m:\u001b[0m\u001b[0;34m,\u001b[0m\u001b[0;36m0\u001b[0m\u001b[0;34m:\u001b[0m\u001b[0;36m4\u001b[0m\u001b[0;34m]\u001b[0m\u001b[0;34m\u001b[0m\u001b[0;34m\u001b[0m\u001b[0m\n\u001b[1;32m      8\u001b[0m \u001b[0mY\u001b[0m \u001b[0;34m=\u001b[0m \u001b[0mtrain_i\u001b[0m\u001b[0;34m.\u001b[0m\u001b[0miloc\u001b[0m\u001b[0;34m[\u001b[0m\u001b[0;34m:\u001b[0m\u001b[0;34m,\u001b[0m\u001b[0;36m5\u001b[0m\u001b[0;34m]\u001b[0m\u001b[0;34m\u001b[0m\u001b[0;34m\u001b[0m\u001b[0m\n\u001b[0;32m----> 9\u001b[0;31m \u001b[0mtheta_t\u001b[0m \u001b[0;34m=\u001b[0m \u001b[0mSGD\u001b[0m\u001b[0;34m(\u001b[0m\u001b[0mX\u001b[0m \u001b[0;34m=\u001b[0m \u001b[0mX\u001b[0m\u001b[0;34m,\u001b[0m \u001b[0mY\u001b[0m \u001b[0;34m=\u001b[0m \u001b[0mY\u001b[0m\u001b[0;34m,\u001b[0m \u001b[0mlamb\u001b[0m \u001b[0;34m=\u001b[0m \u001b[0mlamb\u001b[0m\u001b[0;34m)\u001b[0m\u001b[0;34m\u001b[0m\u001b[0;34m\u001b[0m\u001b[0m\n\u001b[0m\u001b[1;32m     10\u001b[0m \u001b[0mtheta\u001b[0m \u001b[0;34m=\u001b[0m \u001b[0mtheta_t\u001b[0m\u001b[0;34m[\u001b[0m\u001b[0;36m0\u001b[0m\u001b[0;34m,\u001b[0m\u001b[0;36m0\u001b[0m\u001b[0;34m:\u001b[0m\u001b[0;34m-\u001b[0m\u001b[0;36m1\u001b[0m\u001b[0;34m]\u001b[0m\u001b[0;34m\u001b[0m\u001b[0;34m\u001b[0m\u001b[0m\n\u001b[1;32m     11\u001b[0m \u001b[0mtheta_0\u001b[0m \u001b[0;34m=\u001b[0m \u001b[0mtheta_t\u001b[0m\u001b[0;34m[\u001b[0m\u001b[0;36m0\u001b[0m\u001b[0;34m,\u001b[0m\u001b[0;34m-\u001b[0m\u001b[0;36m1\u001b[0m\u001b[0;34m]\u001b[0m\u001b[0;34m\u001b[0m\u001b[0;34m\u001b[0m\u001b[0m\n",
      "\u001b[0;32m<ipython-input-93-a4452309f3bb>\u001b[0m in \u001b[0;36mSGD\u001b[0;34m(X, Y, lamb, eps, T)\u001b[0m\n\u001b[1;32m     37\u001b[0m         \u001b[0mi\u001b[0m \u001b[0;34m=\u001b[0m \u001b[0mnp\u001b[0m\u001b[0;34m.\u001b[0m\u001b[0mrandom\u001b[0m\u001b[0;34m.\u001b[0m\u001b[0mrandint\u001b[0m\u001b[0;34m(\u001b[0m\u001b[0mn\u001b[0m\u001b[0;34m)\u001b[0m\u001b[0;34m\u001b[0m\u001b[0;34m\u001b[0m\u001b[0m\n\u001b[1;32m     38\u001b[0m         \u001b[0metha\u001b[0m \u001b[0;34m=\u001b[0m \u001b[0;36m1\u001b[0m\u001b[0;34m/\u001b[0m\u001b[0;34m(\u001b[0m\u001b[0mt\u001b[0m\u001b[0;34m+\u001b[0m\u001b[0;36m1\u001b[0m\u001b[0;34m)\u001b[0m\u001b[0;34m\u001b[0m\u001b[0;34m\u001b[0m\u001b[0m\n\u001b[0;32m---> 39\u001b[0;31m         \u001b[0mtheta_t\u001b[0m \u001b[0;34m=\u001b[0m \u001b[0mtheta_t\u001b[0m \u001b[0;34m-\u001b[0m \u001b[0metha\u001b[0m\u001b[0;34m*\u001b[0m\u001b[0;34m(\u001b[0m\u001b[0;34m(\u001b[0m\u001b[0mnp\u001b[0m\u001b[0;34m.\u001b[0m\u001b[0mdot\u001b[0m\u001b[0;34m(\u001b[0m\u001b[0mtheta_t\u001b[0m\u001b[0;34m,\u001b[0m \u001b[0mX\u001b[0m\u001b[0;34m[\u001b[0m\u001b[0mi\u001b[0m\u001b[0;34m]\u001b[0m\u001b[0;34m)\u001b[0m \u001b[0;34m-\u001b[0m \u001b[0mY\u001b[0m\u001b[0;34m[\u001b[0m\u001b[0mi\u001b[0m\u001b[0;34m]\u001b[0m\u001b[0;34m)\u001b[0m\u001b[0;34m*\u001b[0m\u001b[0mX\u001b[0m\u001b[0;34m[\u001b[0m\u001b[0mi\u001b[0m\u001b[0;34m]\u001b[0m \u001b[0;34m+\u001b[0m \u001b[0;34m(\u001b[0m\u001b[0mlamb\u001b[0m\u001b[0;34m/\u001b[0m\u001b[0mn\u001b[0m\u001b[0;34m)\u001b[0m\u001b[0;34m*\u001b[0m\u001b[0mtheta_t\u001b[0m\u001b[0;34m)\u001b[0m\u001b[0;34m\u001b[0m\u001b[0;34m\u001b[0m\u001b[0m\n\u001b[0m\u001b[1;32m     40\u001b[0m         \u001b[0mt\u001b[0m \u001b[0;34m+=\u001b[0m \u001b[0;36m1\u001b[0m\u001b[0;34m\u001b[0m\u001b[0;34m\u001b[0m\u001b[0m\n\u001b[1;32m     41\u001b[0m \u001b[0;34m\u001b[0m\u001b[0m\n",
      "\u001b[0;32m<__array_function__ internals>\u001b[0m in \u001b[0;36mdot\u001b[0;34m(*args, **kwargs)\u001b[0m\n",
      "\u001b[0;31mValueError\u001b[0m: shapes (1,5) and (1,5) not aligned: 5 (dim 1) != 1 (dim 0)"
     ]
    }
   ],
   "source": [
    "init = n*i\n",
    "fin = n*(1+i)\n",
    "test_i = D.iloc[init:fin,:]\n",
    "train_i = D.drop(test_i.index)\n",
    "\n",
    "# Calcular theta y theta_0 con SGD y train\n",
    "X = train_i.iloc[:,0:4]\n",
    "Y = train_i.iloc[:,5]\n",
    "theta_t = SGD(X = X, Y = Y, lamb = lamb)\n",
    "theta = theta_t[0,0:-1]\n",
    "theta_0 = theta_t[0,-1]"
   ]
  },
  {
   "cell_type": "code",
   "execution_count": 99,
   "metadata": {},
   "outputs": [
    {
     "ename": "ValueError",
     "evalue": "shapes (1,5) and (1,5) not aligned: 5 (dim 1) != 1 (dim 0)",
     "output_type": "error",
     "traceback": [
      "\u001b[0;31m---------------------------------------------------------------------------\u001b[0m",
      "\u001b[0;31mValueError\u001b[0m                                Traceback (most recent call last)",
      "\u001b[0;32m<ipython-input-99-d6acf2e8969b>\u001b[0m in \u001b[0;36m<module>\u001b[0;34m\u001b[0m\n\u001b[0;32m----> 1\u001b[0;31m \u001b[0mSGD\u001b[0m\u001b[0;34m(\u001b[0m\u001b[0mX\u001b[0m \u001b[0;34m=\u001b[0m \u001b[0mX\u001b[0m\u001b[0;34m,\u001b[0m \u001b[0mY\u001b[0m \u001b[0;34m=\u001b[0m \u001b[0mY\u001b[0m\u001b[0;34m,\u001b[0m \u001b[0mlamb\u001b[0m \u001b[0;34m=\u001b[0m \u001b[0mlamb\u001b[0m\u001b[0;34m)\u001b[0m\u001b[0;34m\u001b[0m\u001b[0;34m\u001b[0m\u001b[0m\n\u001b[0m",
      "\u001b[0;32m<ipython-input-93-a4452309f3bb>\u001b[0m in \u001b[0;36mSGD\u001b[0;34m(X, Y, lamb, eps, T)\u001b[0m\n\u001b[1;32m     37\u001b[0m         \u001b[0mi\u001b[0m \u001b[0;34m=\u001b[0m \u001b[0mnp\u001b[0m\u001b[0;34m.\u001b[0m\u001b[0mrandom\u001b[0m\u001b[0;34m.\u001b[0m\u001b[0mrandint\u001b[0m\u001b[0;34m(\u001b[0m\u001b[0mn\u001b[0m\u001b[0;34m)\u001b[0m\u001b[0;34m\u001b[0m\u001b[0;34m\u001b[0m\u001b[0m\n\u001b[1;32m     38\u001b[0m         \u001b[0metha\u001b[0m \u001b[0;34m=\u001b[0m \u001b[0;36m1\u001b[0m\u001b[0;34m/\u001b[0m\u001b[0;34m(\u001b[0m\u001b[0mt\u001b[0m\u001b[0;34m+\u001b[0m\u001b[0;36m1\u001b[0m\u001b[0;34m)\u001b[0m\u001b[0;34m\u001b[0m\u001b[0;34m\u001b[0m\u001b[0m\n\u001b[0;32m---> 39\u001b[0;31m         \u001b[0mtheta_t\u001b[0m \u001b[0;34m=\u001b[0m \u001b[0mtheta_t\u001b[0m \u001b[0;34m-\u001b[0m \u001b[0metha\u001b[0m\u001b[0;34m*\u001b[0m\u001b[0;34m(\u001b[0m\u001b[0;34m(\u001b[0m\u001b[0mnp\u001b[0m\u001b[0;34m.\u001b[0m\u001b[0mdot\u001b[0m\u001b[0;34m(\u001b[0m\u001b[0mtheta_t\u001b[0m\u001b[0;34m,\u001b[0m \u001b[0mX\u001b[0m\u001b[0;34m[\u001b[0m\u001b[0mi\u001b[0m\u001b[0;34m]\u001b[0m\u001b[0;34m)\u001b[0m \u001b[0;34m-\u001b[0m \u001b[0mY\u001b[0m\u001b[0;34m[\u001b[0m\u001b[0mi\u001b[0m\u001b[0;34m]\u001b[0m\u001b[0;34m)\u001b[0m\u001b[0;34m*\u001b[0m\u001b[0mX\u001b[0m\u001b[0;34m[\u001b[0m\u001b[0mi\u001b[0m\u001b[0;34m]\u001b[0m \u001b[0;34m+\u001b[0m \u001b[0;34m(\u001b[0m\u001b[0mlamb\u001b[0m\u001b[0;34m/\u001b[0m\u001b[0mn\u001b[0m\u001b[0;34m)\u001b[0m\u001b[0;34m*\u001b[0m\u001b[0mtheta_t\u001b[0m\u001b[0;34m)\u001b[0m\u001b[0;34m\u001b[0m\u001b[0;34m\u001b[0m\u001b[0m\n\u001b[0m\u001b[1;32m     40\u001b[0m         \u001b[0mt\u001b[0m \u001b[0;34m+=\u001b[0m \u001b[0;36m1\u001b[0m\u001b[0;34m\u001b[0m\u001b[0;34m\u001b[0m\u001b[0m\n\u001b[1;32m     41\u001b[0m \u001b[0;34m\u001b[0m\u001b[0m\n",
      "\u001b[0;32m<__array_function__ internals>\u001b[0m in \u001b[0;36mdot\u001b[0;34m(*args, **kwargs)\u001b[0m\n",
      "\u001b[0;31mValueError\u001b[0m: shapes (1,5) and (1,5) not aligned: 5 (dim 1) != 1 (dim 0)"
     ]
    }
   ],
   "source": [
    "SGD(X = X, Y = Y, lamb = lamb)"
   ]
  },
  {
   "cell_type": "code",
   "execution_count": 100,
   "metadata": {},
   "outputs": [],
   "source": [
    "n = X.shape[0]\n",
    "X = np.matrix(X)\n",
    "ones = np.matrix(np.ones((X.shape[0],1)))\n",
    "X = np.append(X, ones, axis=1)\n",
    "Y = np.matrix(Y).reshape(Y.shape[0],1)\n",
    "theta_t = np.matrix(np.zeros(X.shape[1]))"
   ]
  },
  {
   "cell_type": "code",
   "execution_count": 101,
   "metadata": {},
   "outputs": [
    {
     "ename": "ValueError",
     "evalue": "shapes (1,5) and (1,5) not aligned: 5 (dim 1) != 1 (dim 0)",
     "output_type": "error",
     "traceback": [
      "\u001b[0;31m---------------------------------------------------------------------------\u001b[0m",
      "\u001b[0;31mValueError\u001b[0m                                Traceback (most recent call last)",
      "\u001b[0;32m<ipython-input-101-fe3e81d672d3>\u001b[0m in \u001b[0;36m<module>\u001b[0;34m\u001b[0m\n\u001b[0;32m----> 1\u001b[0;31m \u001b[0mtheta_t\u001b[0m \u001b[0;34m=\u001b[0m \u001b[0mtheta_t\u001b[0m \u001b[0;34m-\u001b[0m \u001b[0metha\u001b[0m\u001b[0;34m*\u001b[0m\u001b[0;34m(\u001b[0m\u001b[0;34m(\u001b[0m\u001b[0mnp\u001b[0m\u001b[0;34m.\u001b[0m\u001b[0mdot\u001b[0m\u001b[0;34m(\u001b[0m\u001b[0mtheta_t\u001b[0m\u001b[0;34m,\u001b[0m \u001b[0mX\u001b[0m\u001b[0;34m[\u001b[0m\u001b[0mi\u001b[0m\u001b[0;34m]\u001b[0m\u001b[0;34m)\u001b[0m \u001b[0;34m-\u001b[0m \u001b[0mY\u001b[0m\u001b[0;34m[\u001b[0m\u001b[0mi\u001b[0m\u001b[0;34m]\u001b[0m\u001b[0;34m)\u001b[0m\u001b[0;34m*\u001b[0m\u001b[0mX\u001b[0m\u001b[0;34m[\u001b[0m\u001b[0mi\u001b[0m\u001b[0;34m]\u001b[0m \u001b[0;34m+\u001b[0m \u001b[0;34m(\u001b[0m\u001b[0mlamb\u001b[0m\u001b[0;34m/\u001b[0m\u001b[0mn\u001b[0m\u001b[0;34m)\u001b[0m\u001b[0;34m*\u001b[0m\u001b[0mtheta_t\u001b[0m\u001b[0;34m)\u001b[0m\u001b[0;34m\u001b[0m\u001b[0;34m\u001b[0m\u001b[0m\n\u001b[0m",
      "\u001b[0;32m<__array_function__ internals>\u001b[0m in \u001b[0;36mdot\u001b[0;34m(*args, **kwargs)\u001b[0m\n",
      "\u001b[0;31mValueError\u001b[0m: shapes (1,5) and (1,5) not aligned: 5 (dim 1) != 1 (dim 0)"
     ]
    }
   ],
   "source": [
    "theta_t = theta_t - etha*((np.dot(theta_t, X[i]) - Y[i])*X[i] + (lamb/n)*theta_t)"
   ]
  },
  {
   "cell_type": "code",
   "execution_count": 118,
   "metadata": {},
   "outputs": [
    {
     "data": {
      "text/plain": [
       "0.0"
      ]
     },
     "execution_count": 118,
     "metadata": {},
     "output_type": "execute_result"
    }
   ],
   "source": [
    "theta_t_1 = np.squeeze(np.asarray(theta_t))\n",
    "X_1 = np.squeeze(np.asarray(X[i]))\n",
    "\n",
    "np.dot(theta_t_1, X_1)"
   ]
  },
  {
   "cell_type": "code",
   "execution_count": 115,
   "metadata": {},
   "outputs": [
    {
     "data": {
      "text/plain": [
       "matrix([[0., 0., 0., 0., 0.]])"
      ]
     },
     "execution_count": 115,
     "metadata": {},
     "output_type": "execute_result"
    }
   ],
   "source": [
    "theta_tX[i]"
   ]
  },
  {
   "cell_type": "code",
   "execution_count": 116,
   "metadata": {},
   "outputs": [
    {
     "data": {
      "text/plain": [
       "matrix([[5.8, 4. , 1.2, 0.2, 1. ]])"
      ]
     },
     "execution_count": 116,
     "metadata": {},
     "output_type": "execute_result"
    }
   ],
   "source": [
    "X[i][0]"
   ]
  },
  {
   "cell_type": "code",
   "execution_count": 112,
   "metadata": {},
   "outputs": [
    {
     "ename": "SyntaxError",
     "evalue": "invalid syntax (<ipython-input-112-b40c7c4cb3b9>, line 1)",
     "output_type": "error",
     "traceback": [
      "\u001b[0;36m  File \u001b[0;32m\"<ipython-input-112-b40c7c4cb3b9>\"\u001b[0;36m, line \u001b[0;32m1\u001b[0m\n\u001b[0;31m    X[i]%*%theta_t\u001b[0m\n\u001b[0m         ^\u001b[0m\n\u001b[0;31mSyntaxError\u001b[0m\u001b[0;31m:\u001b[0m invalid syntax\n"
     ]
    }
   ],
   "source": [
    "X[i]%*%theta_t"
   ]
  },
  {
   "cell_type": "code",
   "execution_count": null,
   "metadata": {},
   "outputs": [],
   "source": []
  }
 ],
 "metadata": {
  "kernelspec": {
   "display_name": "Python 3",
   "language": "python",
   "name": "python3"
  },
  "language_info": {
   "codemirror_mode": {
    "name": "ipython",
    "version": 3
   },
   "file_extension": ".py",
   "mimetype": "text/x-python",
   "name": "python",
   "nbconvert_exporter": "python",
   "pygments_lexer": "ipython3",
   "version": "3.6.9"
  }
 },
 "nbformat": 4,
 "nbformat_minor": 4
}
