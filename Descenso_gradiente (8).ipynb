{
 "cells": [
  {
   "cell_type": "code",
   "execution_count": 1,
   "metadata": {},
   "outputs": [],
   "source": [
    "import numpy as np\n",
    "import pandas as pd\n",
    "import matplotlib.pyplot as plt\n",
    "from matplotlib.colors import ListedColormap\n",
    "from random import seed\n",
    "from random import randrange"
   ]
  },
  {
   "cell_type": "code",
   "execution_count": 2,
   "metadata": {},
   "outputs": [],
   "source": [
    "# Lectura de datos\n",
    "data = pd.read_csv('iris.data',header=None)\n",
    "data.columns = ['Sepal.length', 'Sepal.width', 'Petal.length', 'Petal.width', 'Species']"
   ]
  },
  {
   "cell_type": "code",
   "execution_count": 8,
   "metadata": {},
   "outputs": [],
   "source": [
    "# Función de clasificación\n",
    "def classificador(x, y, theta, theta_0, tipo):\n",
    "    z = y*(np.dot(x, theta) + theta_0)\n",
    "    \n",
    "    if z < 1.0:\n",
    "        z = -1\n",
    "    else:\n",
    "        z = 0\n",
    "    \n",
    "    if tipo == 1:\n",
    "        z = z*y*x\n",
    "    else:\n",
    "        z = z*y\n",
    "    \n",
    "    return z\n",
    "\n",
    "# Función de pérdida\n",
    "def loess(X, Y, theta, theta_0, etha, lamb):\n",
    "    nr, nc = X.shape\n",
    "    suma_theta = 0\n",
    "    suma_theta_0 = 0\n",
    "    \n",
    "    for i in range(nr):\n",
    "        specie = Y.loc[i][0]\n",
    "        # Positivo: Setosa, Negativo: el resto\n",
    "        if specie == 'Iris-setosa':\n",
    "            y = 1\n",
    "        else:\n",
    "            y = -1\n",
    "        suma_theta = suma_theta + classificador(X.loc[i], y, theta, theta_0, tipo = 1)\n",
    "        suma_theta_0 = suma_theta_0 + classificador(X.loc[i], y, theta, theta_0, tipo = 2)\n",
    "        \n",
    "    theta = theta - etha*( (1/nr)*suma_theta + lamb*theta)\n",
    "    theta_0 = theta_0 - etha*(1/nr)*suma_theta_0\n",
    "    return theta, theta_0\n",
    "\n",
    "# Jacobiano\n",
    "def jacob(X, Y, theta, theta_0, lamb):\n",
    "    nr, nc = X.shape\n",
    "    suma_jac = 0\n",
    "    \n",
    "    for i in range(nr):\n",
    "        specie = Y.loc[i][0]\n",
    "        # Positivo: Setosa, Negativo: el resto\n",
    "        if specie == 'Iris-setosa':\n",
    "            y = 1\n",
    "        else:\n",
    "            y = -1\n",
    "        v = y*(np.dot(X.loc[i], theta) + theta_0)\n",
    "        if v < 1.0:\n",
    "            L = 1-v\n",
    "        else:\n",
    "            L = 0\n",
    "        suma_jac = suma_jac + L\n",
    "    \n",
    "    jac = (1/nr)*suma_jac + (lamb/2)*np.dot(theta, theta)\n",
    "    return jac\n",
    "\n",
    "# Método de descenso por gradiente\n",
    "def descenso_gradiente(X, Y, theta, theta_0, etha, lamb, MAX = 100, tol = 1e-4):\n",
    "    t = 0\n",
    "    error = 10\n",
    "    while error >= tol and t < MAX:\n",
    "        t = t + 1\n",
    "        theta_act, theta_0_act = loess(X, Y, theta, theta_0, etha, lamb)\n",
    "        error = abs(jacob(X, Y, theta_act, theta_0_act, lamb) - jacob(X, Y, theta, theta_0, lamb))\n",
    "        #print('Error: ', error)\n",
    "        #print('Iteracion: ', t)\n",
    "        theta = theta_act\n",
    "        theta_0 = theta_0_act\n",
    "    return theta_act, theta_0_act\n",
    "\n",
    "# Cross validation\n",
    "def cv_split(data, k):\n",
    "    \"\"\"esta funcion tiene de imput un dataset y un numero de fragmentos y de output las particiones\"\"\"\n",
    "    df_split = list()\n",
    "    df_copy = data\n",
    "    tamaño_particion = int(len(data) / k)\n",
    "    for i in range(k):\n",
    "        particion = list()\n",
    "        while len(particion) < tamaño_particion:\n",
    "            index = randrange(len(df_copy))\n",
    "            particion.append(df_copy.pop(index))\n",
    "        df_split.append(particion)\n",
    "    return df_split\n",
    "############todavia no sirve, si lo puedes implementar con un df estaria chido##########"
   ]
  },
  {
   "cell_type": "code",
   "execution_count": 11,
   "metadata": {},
   "outputs": [],
   "source": [
    "X = data[['Sepal.length', 'Sepal.width', 'Petal.length' , 'Petal.width']]\n",
    "Y = data[['Species']]\n",
    "theta = np.array([0.0, 0.0, 0.0, 0.0])\n",
    "theta_0 = 1.0\n",
    "etha = 0.1\n",
    "lamb = 0.1"
   ]
  },
  {
   "cell_type": "code",
   "execution_count": 12,
   "metadata": {},
   "outputs": [],
   "source": [
    "theta_f, theta_0_f = descenso_gradiente(X, Y, theta, theta_0, etha, lamb)"
   ]
  },
  {
   "cell_type": "code",
   "execution_count": 14,
   "metadata": {},
   "outputs": [
    {
     "data": {
      "text/plain": [
       "0.051791675594372616"
      ]
     },
     "execution_count": 14,
     "metadata": {},
     "output_type": "execute_result"
    }
   ],
   "source": [
    "jacob(X, Y, theta_f, theta_0_f, lamb)"
   ]
  },
  {
   "cell_type": "code",
   "execution_count": null,
   "metadata": {},
   "outputs": [],
   "source": []
  }
 ],
 "metadata": {
  "kernelspec": {
   "display_name": "Python 3",
   "language": "python",
   "name": "python3"
  },
  "language_info": {
   "codemirror_mode": {
    "name": "ipython",
    "version": 3
   },
   "file_extension": ".py",
   "mimetype": "text/x-python",
   "name": "python",
   "nbconvert_exporter": "python",
   "pygments_lexer": "ipython3",
   "version": "3.6.9"
  }
 },
 "nbformat": 4,
 "nbformat_minor": 4
}
