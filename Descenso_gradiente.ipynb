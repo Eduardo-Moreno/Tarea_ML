{
 "cells": [
  {
   "cell_type": "code",
   "execution_count": 1,
   "metadata": {},
   "outputs": [],
   "source": [
    "pip install tabulate\n",
    "\n",
    "import numpy as np\n",
    "import pandas as pd\n",
    "import matplotlib.pyplot as plt\n",
    "from matplotlib.colors import ListedColormap\n",
    "from random import seed\n",
    "from random import randrange\n",
    "import seaborn as sns\n",
    "from tabulate import tabulate"
   ]
  },
  {
   "cell_type": "markdown",
   "metadata": {},
   "source": [
    "### Lectura y procesamiento de datos"
   ]
  },
  {
   "cell_type": "code",
   "execution_count": 2,
   "metadata": {},
   "outputs": [
    {
     "data": {
      "text/html": [
       "<div>\n",
       "<style scoped>\n",
       "    .dataframe tbody tr th:only-of-type {\n",
       "        vertical-align: middle;\n",
       "    }\n",
       "\n",
       "    .dataframe tbody tr th {\n",
       "        vertical-align: top;\n",
       "    }\n",
       "\n",
       "    .dataframe thead th {\n",
       "        text-align: right;\n",
       "    }\n",
       "</style>\n",
       "<table border=\"1\" class=\"dataframe\">\n",
       "  <thead>\n",
       "    <tr style=\"text-align: right;\">\n",
       "      <th></th>\n",
       "      <th>sepal_length</th>\n",
       "      <th>sepal_width</th>\n",
       "      <th>petal_length</th>\n",
       "      <th>petal_width</th>\n",
       "      <th>species</th>\n",
       "    </tr>\n",
       "  </thead>\n",
       "  <tbody>\n",
       "    <tr>\n",
       "      <th>0</th>\n",
       "      <td>5.1</td>\n",
       "      <td>3.5</td>\n",
       "      <td>1.4</td>\n",
       "      <td>0.2</td>\n",
       "      <td>setosa</td>\n",
       "    </tr>\n",
       "    <tr>\n",
       "      <th>1</th>\n",
       "      <td>4.9</td>\n",
       "      <td>3.0</td>\n",
       "      <td>1.4</td>\n",
       "      <td>0.2</td>\n",
       "      <td>setosa</td>\n",
       "    </tr>\n",
       "    <tr>\n",
       "      <th>2</th>\n",
       "      <td>4.7</td>\n",
       "      <td>3.2</td>\n",
       "      <td>1.3</td>\n",
       "      <td>0.2</td>\n",
       "      <td>setosa</td>\n",
       "    </tr>\n",
       "    <tr>\n",
       "      <th>3</th>\n",
       "      <td>4.6</td>\n",
       "      <td>3.1</td>\n",
       "      <td>1.5</td>\n",
       "      <td>0.2</td>\n",
       "      <td>setosa</td>\n",
       "    </tr>\n",
       "    <tr>\n",
       "      <th>4</th>\n",
       "      <td>5.0</td>\n",
       "      <td>3.6</td>\n",
       "      <td>1.4</td>\n",
       "      <td>0.2</td>\n",
       "      <td>setosa</td>\n",
       "    </tr>\n",
       "  </tbody>\n",
       "</table>\n",
       "</div>"
      ],
      "text/plain": [
       "   sepal_length  sepal_width  petal_length  petal_width species\n",
       "0           5.1          3.5           1.4          0.2  setosa\n",
       "1           4.9          3.0           1.4          0.2  setosa\n",
       "2           4.7          3.2           1.3          0.2  setosa\n",
       "3           4.6          3.1           1.5          0.2  setosa\n",
       "4           5.0          3.6           1.4          0.2  setosa"
      ]
     },
     "execution_count": 2,
     "metadata": {},
     "output_type": "execute_result"
    }
   ],
   "source": [
    "# Lectura de datos\n",
    "data = sns.load_dataset('iris')\n",
    "data.head(5)"
   ]
  },
  {
   "cell_type": "markdown",
   "metadata": {},
   "source": [
    "A continuación se ajustará la categoría a clasificar, la cual será setosa contra el resto."
   ]
  },
  {
   "cell_type": "code",
   "execution_count": 3,
   "metadata": {},
   "outputs": [],
   "source": [
    "# Cambiar ajuste de datos para clasificar setosa\n",
    "data['categoria'] = [1 if x =='setosa' else -1 for x in data['species']] "
   ]
  },
  {
   "cell_type": "markdown",
   "metadata": {},
   "source": [
    "### Máquinas de soporte vectorial (SVM) utilizando el método de descenso por gradiente"
   ]
  },
  {
   "cell_type": "code",
   "execution_count": 4,
   "metadata": {},
   "outputs": [],
   "source": [
    "# Función clasifica\n",
    "def clasifica(x, y, theta, theta_0):\n",
    "    \"\"\" DEF: Evalúa la predicción de la categoría en base al modelo (theta, theta_0)\n",
    "    Inputs:\n",
    "    x: vector de caracteristicas\n",
    "    y: vector de etiquetas\n",
    "    theta: vector\n",
    "    theta_0: escalar\n",
    "    Outputs:\n",
    "    value: -1 si la clasific es incorrecta, 0 si lo es\n",
    "    \"\"\"\n",
    "    \n",
    "    # Regla de clasificación\n",
    "    z = y*(np.dot(theta,np.transpose(x)) + theta_0)\n",
    "    if z < 1 :\n",
    "        value = -1\n",
    "    else:\n",
    "        value = 0\n",
    "\n",
    "    return value"
   ]
  },
  {
   "cell_type": "code",
   "execution_count": 5,
   "metadata": {},
   "outputs": [],
   "source": [
    "def loess(x, y, theta, theta_0):\n",
    "    \"\"\" DEF: Evaluación en la función de perdida\n",
    "    Inputs:\n",
    "    x: vector de características\n",
    "    y: vector de etiquetas\n",
    "    theta: vector normal del hiperplano\n",
    "    theta_0: nivel base del hiperplano (pseudo-ordenada al origen)\n",
    "    Outputs:\n",
    "    suma = valor de pérdida  \n",
    "    \"\"\"\n",
    "    \n",
    "    suma = 0\n",
    "    H = 0\n",
    "    n = x.shape[0]\n",
    "    \n",
    "    for i in range(n):\n",
    "        H = y[i]*(np.dot(theta, x[i]) + theta_0)\n",
    "        if H >= 1:\n",
    "            suma += 0\n",
    "        else:\n",
    "            suma += (1-H)\n",
    "            \n",
    "    return suma"
   ]
  },
  {
   "cell_type": "code",
   "execution_count": 6,
   "metadata": {},
   "outputs": [],
   "source": [
    "def jacob(X, Y, theta, theta_0, lamb):\n",
    "    \"\"\" DEF: Cálculo del jacobiano\n",
    "    Inputs:\n",
    "    X: matriz de características\n",
    "    Y: vector de etiquetas\n",
    "    theta: vector normal del hiperplano\n",
    "    theta_0: nivel base del hiperplano (pseudo-ordenada al origen)\n",
    "    lamb: escalar que indica la tasa de aprendizaje\n",
    "    Outputs:\n",
    "    value = valor del jacobiano\n",
    "    \"\"\"\n",
    "    \n",
    "    n = X.shape[0]\n",
    "    jacobiano = loess(X, Y, theta, theta_0)/n + (lamb/2.0)*np.linalg.norm(theta)\n",
    "\n",
    "    return jacobiano"
   ]
  },
  {
   "cell_type": "code",
   "execution_count": 7,
   "metadata": {},
   "outputs": [],
   "source": [
    "# Función para descenso por gradiente\n",
    "def SVM(X, Y, theta, theta_0, etha, lamb, eps = 1e-8, MAX = 3000):\n",
    "    \"\"\" DEF: Máquina de soporte vectorial en base al método descenso en gradiente\n",
    "    Inputs:\n",
    "    X: matriz de características\n",
    "    Y: vector de etiquetas\n",
    "    theta: vector normal del hiperplano\n",
    "    theta_0: nivel base del hiperplano (pseudo-ordenada al origen)\n",
    "    lamb: escalar que indica la tasa de aprendizaje\n",
    "    Outputs:\n",
    "    theta = hiperplano final\n",
    "    theta_0 = base del hiperplano final (pseudo-ordenada al origen)\n",
    "    \"\"\"\n",
    "    \n",
    "    n = X.shape[0]\n",
    "    sum_theta = 0\n",
    "    sum_theta_0 = 0\n",
    "    error = 10\n",
    "    t = 0\n",
    "    \n",
    "    # Salir del ciclo si alcanzamos la tolerencia deseada o bien porque se llegó al máximo de iteraciones permitidas\n",
    "    while error >= eps and t < MAX:\n",
    "        # Guardar parametros en tiempo: t-1\n",
    "        theta_old = theta\n",
    "        theta_0_old = theta_0\n",
    "        \n",
    "        # Evaluacion de la suma para la actualizacion el descenso por gradiente\n",
    "        for i in range(n):\n",
    "            sum_theta += clasifica(X[i], Y[i], theta, theta_0)*Y[i]*X[i]\n",
    "            sum_theta_0 += clasifica(X[i], Y[i], theta, theta_0)*Y[i]\n",
    "        \n",
    "        # Descenso por gradiente\n",
    "        theta = theta - etha*((sum_theta/n) + lamb*theta)\n",
    "        theta_0= theta_0 - etha*((sum_theta_0/n))\n",
    "        \n",
    "        # Calculo del error\n",
    "        error = abs(jacob(X, Y, theta, theta_0, lamb) - jacob(X, Y, theta_old, theta_0_old, lamb))\n",
    "        t += 1\n",
    "    \n",
    "    jac = jacob(X, Y, theta, theta_0, lamb)\n",
    "    return theta, theta_0"
   ]
  },
  {
   "cell_type": "code",
   "execution_count": 8,
   "metadata": {},
   "outputs": [],
   "source": [
    "def CV_SVM(D, k, theta, theta_0, etha, lamb):\n",
    "    \"\"\" DEF: Computa la validación cruzada para determinar la lambda que minimiza el error\n",
    "    Inputs:\n",
    "    D:matriz de características\n",
    "    k:número de subconjutos a probar\n",
    "    theta: vector normal del hiperplano\n",
    "    theta_0: nivel base del hiperplano (pseudo-ordenada al origen)\n",
    "    etha: escalar\n",
    "    lamb: escalar que indica la tasa de aprendizaje\n",
    "\n",
    "    Outputs:\n",
    "    error_promedio: error promedio de cada clasificación\n",
    "    \"\"\"\n",
    "    \n",
    "    errors = []\n",
    "    n = D.shape[0]\n",
    "    \n",
    "    # Calculo del tamaño de los bloques\n",
    "    n = int((n / k))\n",
    "    \n",
    "    for i in range (0,k):\n",
    "        init = n*i\n",
    "        fin = n*(i+1)\n",
    "        # Selecionar datos del i-esimo bloque para prueba y entrenamiento\n",
    "        test_i = D.iloc[init:fin,:]\n",
    "        train_i = D.drop(test_i.index)\n",
    "        X_train = train_i.iloc[:,0:4]\n",
    "        X_train = X_train.to_numpy()\n",
    "        Y_train = train_i.iloc[:,5]\n",
    "        Y_train = Y_train.to_numpy()\n",
    "        # Obtener el i-esimo hiperplano utilizando metodología de descenso por gradiente\n",
    "        theta,theta_0 = SVM(X = X_train, Y = Y_train, theta = theta , theta_0 = theta_0, etha = etha, lamb = lamb)\n",
    "        X_test = test_i.iloc[:,0:4]\n",
    "        X_test = X_test.to_numpy()\n",
    "        Y_test = test_i.iloc[:,5]\n",
    "        Y_test = Y_test.to_numpy()\n",
    "        # Calculo del i-esimo error\n",
    "        error_i = error(X = X_test, Y = Y_test, theta = theta, theta_0 = theta_0)\n",
    "        errors.append(error_i)\n",
    "    \n",
    "    error_promedio = np.mean(errors)\n",
    "\n",
    "    return error_promedio"
   ]
  },
  {
   "cell_type": "code",
   "execution_count": 9,
   "metadata": {},
   "outputs": [],
   "source": [
    "def error(X, Y, theta, theta_0):\n",
    "    \"\"\" DEF: Cómputo del error en base al modelo definido por el hiperplano theta y theta_0\n",
    "    Inputs:\n",
    "    X: vector de caracteristicas\n",
    "    Y: vector de clases\n",
    "    theta: vector normal del hiperplano\n",
    "    theta_0: nivel base del hiperplano (pseudo-ordenada al origen)    \n",
    "    Outputs:\n",
    "    error_prom: error promedio de datos mal clasificadas\n",
    "    \"\"\"\n",
    "    \n",
    "    n = len(X)\n",
    "    suma = 0\n",
    "    error_prom = 0\n",
    "    X = np.squeeze(np.asarray(X))\n",
    "    Y = np.squeeze(np.asarray(Y))\n",
    "    \n",
    "    for i in np.arange(n):\n",
    "        clasificador = Y[i]*((np.dot(theta,X[i])) + theta_0)\n",
    "        # Regla de clasificación correcta\n",
    "        if clasificador <= 0:\n",
    "            suma += 1         \n",
    "    error_prom += suma\n",
    "    \n",
    "    error_prom = error_prom/n\n",
    "    return error_prom"
   ]
  },
  {
   "cell_type": "markdown",
   "metadata": {},
   "source": [
    "### Descenso por gradiente estocástico (SGD)"
   ]
  },
  {
   "cell_type": "code",
   "execution_count": 10,
   "metadata": {},
   "outputs": [],
   "source": [
    "def SGD(X, Y, lamb, T = 3000):\n",
    "    \"\"\" DEF: Cómputo de vector normal del hiperplano separador en base a metodología descenso por gradiente estocástico\n",
    "    Inputs:\n",
    "    X: matriz de caracteristicas\n",
    "    Y: matriz de etiquetas\n",
    "    T: máximo de iteraciones\n",
    "    lamb: Párametro lambda \n",
    "    Outputs:\n",
    "    theta_t: parámetros del hiperparámetro obtenido por el método\n",
    "    \"\"\"\n",
    "    \n",
    "    n = X.shape[0]\n",
    "    X = np.matrix(X)\n",
    "    ones = np.matrix(np.ones((X.shape[0],1)))\n",
    "    X = np.append(X, ones, axis=1)\n",
    "    Y = np.matrix(Y).reshape(Y.shape[0],1)\n",
    "    theta_t = np.matrix(np.zeros(X.shape[1]))\n",
    "    \n",
    "    for t in range(T):\n",
    "        # Seleccionar observación de manera aleatoria\n",
    "        i = np.random.randint(n)\n",
    "        etha = 1/(t+1)\n",
    "        theta_t = np.squeeze(np.asarray(theta_t))\n",
    "        x_i = np.squeeze(np.asarray(X[i]))\n",
    "        # Regla de ajuste por método de descenso por gradiente estocástico\n",
    "        if np.dot(theta_t,x_i)*Y[i] < 1:\n",
    "            l_h =  -1\n",
    "        else:\n",
    "            l_h =  0\n",
    "        # Ajuste del hiperparámetro\n",
    "        theta_t = theta_t - etha*(l_h*Y[i]*x_i + (lamb)*theta_t)\n",
    "        \n",
    "    return np.array(theta_t)"
   ]
  },
  {
   "cell_type": "code",
   "execution_count": 11,
   "metadata": {},
   "outputs": [],
   "source": [
    "def CV_SGD(D, k, lamb):\n",
    "    \"\"\" DEF: Computa la validación cruzada para determinar la lambda que minimiza el error\n",
    "    Inputs:\n",
    "    D: matriz de características\n",
    "    k: número de subconjutos a probar\n",
    "    Outputs:\n",
    "    error_promedio: error promedio de cada clasificación\n",
    "    \"\"\"\n",
    "    \n",
    "    errors = []\n",
    "    n = D.shape[0]\n",
    "    # Calculo del tamaño de los bloques\n",
    "    n = int((n / k))\n",
    "    \n",
    "    for i in range (0,k):\n",
    "        init = n*i\n",
    "        fin = n*(1+i)\n",
    "        # Selecionar datos del i-esimo bloque para prueba y entrenamiento\n",
    "        test_i = D.iloc[init:fin,:]\n",
    "        train_i = D.drop(test_i.index)\n",
    "        # Obtener el i-esimo hiperplano utilizando metodología de descenso por gradiente estocástico\n",
    "        X = train_i.iloc[:,0:4]\n",
    "        Y = train_i.iloc[:,5]\n",
    "        theta_t = SGD(X = X, Y = Y, lamb = lamb)\n",
    "        theta = theta_t[0,0:-1]\n",
    "        theta_0 = theta_t[0,-1]\n",
    "        # Calculo del i-esimo error\n",
    "        X = test_i.iloc[:,0:4]\n",
    "        Y = test_i.iloc[:,5]\n",
    "        e_i = error(X = X, Y = Y, theta = theta, theta_0 = theta_0)\n",
    "        errors.append(e_i)\n",
    "    \n",
    "    error_promedio = np.mean(errors)\n",
    "\n",
    "    return error_promedio"
   ]
  },
  {
   "cell_type": "markdown",
   "metadata": {},
   "source": [
    "### Prueba del algoritmo: descenso por gradiente estocástico (SGD)"
   ]
  },
  {
   "cell_type": "markdown",
   "metadata": {},
   "source": [
    "Separación de datos para prueba y entrenamiento"
   ]
  },
  {
   "cell_type": "code",
   "execution_count": 12,
   "metadata": {},
   "outputs": [],
   "source": [
    "# Separar datos para prueba y entrenamiento\n",
    "np.random.seed(2020)\n",
    "train = data.sample(frac = 0.8, random_state = 2020) # Fijamos la semilla con random_state\n",
    "test = data.drop(train.index)\n",
    "\n",
    "# Extraer variables para la clasificación\n",
    "data_vars = train.iloc[:,0:4]\n",
    "vars_train = data_vars.to_numpy()\n",
    "data_labels = train.iloc[:,5]\n",
    "labels_train = data_labels.to_numpy()\n",
    "\n",
    "test_vars = test.iloc[:,0:4]\n",
    "vars_test = test_vars.to_numpy()\n",
    "test_labels = test.iloc[:,5]\n",
    "labels_test = test_labels.to_numpy()"
   ]
  },
  {
   "cell_type": "markdown",
   "metadata": {},
   "source": [
    "Cómputo de $\\lambda$ óptima en base al data de entrenamiento"
   ]
  },
  {
   "cell_type": "code",
   "execution_count": 19,
   "metadata": {},
   "outputs": [
    {
     "name": "stdout",
     "output_type": "stream",
     "text": [
      "[0.0, 0.0, 0.0, 0.0, 0.0]\n"
     ]
    }
   ],
   "source": [
    "error_sgd = []\n",
    "lambdas = [1e-4, 1e-3, 1e-2,  1e-1,  1]\n",
    "for lamb in lambdas:\n",
    "    error_sgd.append(CV_SGD(D = train, k = 5, lamb = lamb))\n",
    "print(error_sgd)"
   ]
  },
  {
   "cell_type": "markdown",
   "metadata": {},
   "source": [
    "Para cualquier $\\lambda \\in \\{ 10^{-4}, 10^{-3}, 10^{-2}, 10^{-1}, 1\\}$ el error es $0$, por convención se utilizará $\\lambda = 10^{-3}.$"
   ]
  },
  {
   "cell_type": "markdown",
   "metadata": {},
   "source": [
    "A continuación se muestran los resultados de función predefinida `SGD`:"
   ]
  },
  {
   "cell_type": "code",
   "execution_count": 39,
   "metadata": {},
   "outputs": [
    {
     "name": "stdout",
     "output_type": "stream",
     "text": [
      "Parámetros del hiperplano SGD:  [ 0.74724692  1.71755737 -2.87446804 -1.1700243 ]\n",
      "Pseudo-ordenada al origen SGD:  0.23579375290931415\n",
      "Error de método SGD:  0.0\n"
     ]
    }
   ],
   "source": [
    "np.random.seed(2020)\n",
    "theta_t = SGD(X = train.iloc[:,0:4], Y = train.iloc[:,5], lamb = 0.001, T=1000)\n",
    "theta_SGD = theta_t[0,0:-1]\n",
    "theta_0_SGD = theta_t[0,-1]\n",
    "print('Parámetros del hiperplano SGD: ', theta_SGD)\n",
    "print('Pseudo-ordenada al origen SGD: ', theta_0_SGD)\n",
    "error_SGD = error(vars_test, labels_test, theta_SGD, theta_0_SGD)\n",
    "print('Error de método SGD: ', error_SGD)"
   ]
  },
  {
   "cell_type": "markdown",
   "metadata": {},
   "source": [
    "### Prueba del algoritmo: descenso por gradiente (SVM)"
   ]
  },
  {
   "cell_type": "code",
   "execution_count": 20,
   "metadata": {},
   "outputs": [],
   "source": [
    "# Separar datos para prueba y entrenamiento\n",
    "np.random.seed(2020)\n",
    "train = data.sample(frac = 0.8, random_state = 2020) # Fijamos la semilla con random_state\n",
    "test = data.drop(train.index)\n",
    "\n",
    "# Extraer variables para la clasificación\n",
    "data_vars = train.iloc[:,0:4]\n",
    "vars_train = data_vars.to_numpy()\n",
    "data_labels = train.iloc[:,5]\n",
    "labels_train = data_labels.to_numpy()\n",
    "\n",
    "test_vars = test.iloc[:,0:4]\n",
    "vars_test = test_vars.to_numpy()\n",
    "test_labels = test.iloc[:,5]\n",
    "labels_test = test_labels.to_numpy()\n",
    "\n",
    "# Parámetros de inicio\n",
    "theta = np.array([0.0, 0.0, 0.0, 0.0])\n",
    "theta_0 = 0.0\n",
    "etha = 0.0001"
   ]
  },
  {
   "cell_type": "code",
   "execution_count": 21,
   "metadata": {},
   "outputs": [
    {
     "name": "stdout",
     "output_type": "stream",
     "text": [
      "[0.0, 0.0, 0.0, 0.0, 0.008333333333333333]\n"
     ]
    }
   ],
   "source": [
    "error_SVM=[]\n",
    "lambdas = [1e-4, 1e-3, 1e-2,  1e-1,  1]\n",
    "for lamb in lambdas:\n",
    "    error_SVM.append(CV_SVM(D = train, k = 5, theta = theta, theta_0 = theta_0, etha = etha, lamb = lamb))\n",
    "print(error_SVM)"
   ]
  },
  {
   "cell_type": "code",
   "execution_count": 36,
   "metadata": {},
   "outputs": [
    {
     "data": {
      "image/png": "[encoded data removed]",
      "text/plain": [
       "<Figure size 432x288 with 1 Axes>"
      ]
     },
     "metadata": {
      "needs_background": "light"
     },
     "output_type": "display_data"
    }
   ],
   "source": [
    "plt.plot(lambdas, error_SVM, color = 'red')\n",
    "plt.title('Error de método SVM')\n",
    "plt.xlabel('lambda')\n",
    "plt.ylabel('error')\n",
    "#plt.grid()\n",
    "plt.grid(linestyle='--', linewidth=1)\n",
    "plt.show()"
   ]
  },
  {
   "cell_type": "markdown",
   "metadata": {},
   "source": [
    "A continuación se muestran los resultados de función predefinida `SVM`:"
   ]
  },
  {
   "cell_type": "code",
   "execution_count": 41,
   "metadata": {},
   "outputs": [
    {
     "name": "stdout",
     "output_type": "stream",
     "text": [
      "Parámetros del hiperplano SVM:  [  8.34218174  20.85576294 -31.01597078 -14.73339556]\n",
      "Pseudo-ordenada al origen SVM:  [4.19432833]\n",
      "Error de método SVM:  0.0\n",
      "Jacobiano evaluado en parámetros óptimos SVM:  0.02051595861769767\n"
     ]
    }
   ],
   "source": [
    "theta_SVM, theta_0_SVM = SVM(X = vars_train, Y = labels_train, \n",
    "                             theta = np.array([0.0, 0.0, 0.0, 0.0]), theta_0 = np.array([0.0]),\n",
    "                             etha = 1e-4, lamb = 1e-4)\n",
    "print('Parámetros del hiperplano SVM: ', theta_SVM)\n",
    "print('Pseudo-ordenada al origen SVM: ', theta_0_SVM)\n",
    "error_SVM = error(vars_test, labels_test, theta_SVM, theta_0_SVM)\n",
    "print('Error de método SVM: ', error_SVM)\n",
    "print('Jacobiano evaluado en parámetros óptimos SVM: ', jacob(X = vars_train, Y = labels_train, \n",
    "                                                          theta = theta_SVM, theta_0 = theta_0_SVM, lamb = 1e-3))"
   ]
  },
  {
   "cell_type": "markdown",
   "metadata": {},
   "source": [
    "### Prueba del algoritmo: perceptrón"
   ]
  },
  {
   "cell_type": "markdown",
   "metadata": {},
   "source": [
    "-- BRAULIO: AQUI VA TU CÓDIGO, PUEDES CHECAR EL FORMATO QUE LE DI A LAS GRÁFICAS Y FUNCIONES PARA QUE LAS TOMES COMO BASE Y TENER EL MISMO TIPO\n",
    "\n",
    "\n",
    "-- POR ÚLTIMO: NO OLVIDES AGREGAR LOS RESULTADOS DEL PERCEPTRON (THETHA_0, THETA Y ERROR A LA SIGUIENE TABLA)"
   ]
  },
  {
   "cell_type": "code",
   "execution_count": null,
   "metadata": {},
   "outputs": [],
   "source": [
    "print(tabulate([['SGD', theta_SVM, theta_0_SVM, error_SVM], ['SVM', theta_SGD, theta_0_SGD, error_SGD]], \n",
    "               headers=['Método', 'theta', 'theta_0', 'Error']))"
   ]
  }
 ],
 "metadata": {
  "kernelspec": {
   "display_name": "Python 3",
   "language": "python",
   "name": "python3"
  },
  "language_info": {
   "codemirror_mode": {
    "name": "ipython",
    "version": 3
   },
   "file_extension": ".py",
   "mimetype": "text/x-python",
   "name": "python",
   "nbconvert_exporter": "python",
   "pygments_lexer": "ipython3",
   "version": "3.6.9"
  }
 },
 "nbformat": 4,
 "nbformat_minor": 4
}
