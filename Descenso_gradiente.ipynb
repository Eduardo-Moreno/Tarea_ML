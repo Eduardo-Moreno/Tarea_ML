{
 "cells": [
  {
   "cell_type": "code",
   "execution_count": 1,
   "metadata": {},
   "outputs": [],
   "source": [
    "import numpy as np\n",
    "import pandas as pd\n",
    "import matplotlib.pyplot as plt\n",
    "from matplotlib.colors import ListedColormap\n",
    "from random import seed\n",
    "from random import randrange\n",
    "import seaborn as sns"
   ]
  },
  {
   "cell_type": "code",
   "execution_count": 2,
   "metadata": {},
   "outputs": [
    {
     "data": {
      "text/html": [
       "<div>\n",
       "<style scoped>\n",
       "    .dataframe tbody tr th:only-of-type {\n",
       "        vertical-align: middle;\n",
       "    }\n",
       "\n",
       "    .dataframe tbody tr th {\n",
       "        vertical-align: top;\n",
       "    }\n",
       "\n",
       "    .dataframe thead th {\n",
       "        text-align: right;\n",
       "    }\n",
       "</style>\n",
       "<table border=\"1\" class=\"dataframe\">\n",
       "  <thead>\n",
       "    <tr style=\"text-align: right;\">\n",
       "      <th></th>\n",
       "      <th>sepal_length</th>\n",
       "      <th>sepal_width</th>\n",
       "      <th>petal_length</th>\n",
       "      <th>petal_width</th>\n",
       "      <th>species</th>\n",
       "    </tr>\n",
       "  </thead>\n",
       "  <tbody>\n",
       "    <tr>\n",
       "      <th>0</th>\n",
       "      <td>5.1</td>\n",
       "      <td>3.5</td>\n",
       "      <td>1.4</td>\n",
       "      <td>0.2</td>\n",
       "      <td>setosa</td>\n",
       "    </tr>\n",
       "    <tr>\n",
       "      <th>1</th>\n",
       "      <td>4.9</td>\n",
       "      <td>3.0</td>\n",
       "      <td>1.4</td>\n",
       "      <td>0.2</td>\n",
       "      <td>setosa</td>\n",
       "    </tr>\n",
       "    <tr>\n",
       "      <th>2</th>\n",
       "      <td>4.7</td>\n",
       "      <td>3.2</td>\n",
       "      <td>1.3</td>\n",
       "      <td>0.2</td>\n",
       "      <td>setosa</td>\n",
       "    </tr>\n",
       "    <tr>\n",
       "      <th>3</th>\n",
       "      <td>4.6</td>\n",
       "      <td>3.1</td>\n",
       "      <td>1.5</td>\n",
       "      <td>0.2</td>\n",
       "      <td>setosa</td>\n",
       "    </tr>\n",
       "    <tr>\n",
       "      <th>4</th>\n",
       "      <td>5.0</td>\n",
       "      <td>3.6</td>\n",
       "      <td>1.4</td>\n",
       "      <td>0.2</td>\n",
       "      <td>setosa</td>\n",
       "    </tr>\n",
       "  </tbody>\n",
       "</table>\n",
       "</div>"
      ],
      "text/plain": [
       "   sepal_length  sepal_width  petal_length  petal_width species\n",
       "0           5.1          3.5           1.4          0.2  setosa\n",
       "1           4.9          3.0           1.4          0.2  setosa\n",
       "2           4.7          3.2           1.3          0.2  setosa\n",
       "3           4.6          3.1           1.5          0.2  setosa\n",
       "4           5.0          3.6           1.4          0.2  setosa"
      ]
     },
     "execution_count": 2,
     "metadata": {},
     "output_type": "execute_result"
    }
   ],
   "source": [
    "# Lectura de datos\n",
    "data = sns.load_dataset('iris')\n",
    "data.head(5)"
   ]
  },
  {
   "cell_type": "code",
   "execution_count": 3,
   "metadata": {},
   "outputs": [],
   "source": [
    "# Cambiar ajuste de datos para clasificar setosa\n",
    "data['categoria'] = [1 if x =='setosa' else -1 for x in data['species']] "
   ]
  },
  {
   "cell_type": "code",
   "execution_count": 4,
   "metadata": {},
   "outputs": [],
   "source": [
    "# Función clasifica\n",
    "def clasifica(x, y, theta, theta_0):\n",
    "    \n",
    "    \"\"\" Def: evalua la prediccion\n",
    "    Inputs:\n",
    "    theta: vector\n",
    "    theta_0: escalar\n",
    "    x: vector de caracteristicas\n",
    "    y: vector de etiquetas\n",
    "\n",
    "    Outputs:\n",
    "    value: -1 si la clasific es incorrecta, 0 si lo es\n",
    "    \"\"\"\n",
    "    \n",
    "    if y*(np.dot(theta,np.transpose(x)) + theta_0) < 1 :\n",
    "        value = -1\n",
    "    else:\n",
    "        value = 0\n",
    "\n",
    "    return value"
   ]
  },
  {
   "cell_type": "code",
   "execution_count": 5,
   "metadata": {},
   "outputs": [],
   "source": [
    "def loess(x, y, theta, theta_0):\n",
    "    \"\"\" Evaluacion en la funcion de perdida\n",
    "    \n",
    "    Inputs:\n",
    "    x - vector de características\n",
    "    y - vector de etiquetas\n",
    "    theta - vector\n",
    "    theta_0 - escalar\n",
    "\n",
    "    Outputs:\n",
    "    suma = funcion perdida evaluada\n",
    "    \"\"\"\n",
    "    \n",
    "    suma = 0\n",
    "    H = 0\n",
    "    n = x.shape[0]\n",
    "    \n",
    "    for i in range(n):\n",
    "        H = y[i]*(np.dot(theta, x[i]) + theta_0)\n",
    "        if H >= 1:\n",
    "            suma += 0\n",
    "        else:\n",
    "            suma += (1-H)\n",
    "            \n",
    "    return suma"
   ]
  },
  {
   "cell_type": "code",
   "execution_count": 6,
   "metadata": {},
   "outputs": [],
   "source": [
    "def jacob(X, Y, theta, theta_0, lamb):\n",
    "    \"\"\" Calculo del jacobiano\n",
    "    \n",
    "    X - matriz de características\n",
    "    Y - vector de etiquetas\n",
    "    theta - vector\n",
    "    theta0 - escalar\n",
    "    lamb - escalar\n",
    "\n",
    "    Outputs:\n",
    "    value = valor del jacobiano\n",
    "     \"\"\"\n",
    "    \n",
    "    n = X.shape[0]\n",
    "    jac = loess(X, Y, theta, theta_0)/n + (lamb/2.0)*np.linalg.norm(theta)\n",
    "\n",
    "    return jac"
   ]
  },
  {
   "cell_type": "code",
   "execution_count": 22,
   "metadata": {},
   "outputs": [],
   "source": [
    "# Función para descenso por gradiente\n",
    "def SVM(X, Y, theta, theta_0, etha, lamb, eps = 1e-8, MAX = 3000):\n",
    "    \"\"\" Support Vector Machine (SVM) utilizando el metodo de descenso en gradiente\n",
    "    \n",
    "    Inputs:\n",
    "    X - matriz de características\n",
    "    Y - vector de etiquetas\n",
    "    theta - vector inicial\n",
    "    theta_0 - escalar\n",
    "    etha - escalar\n",
    "    lamb - escalar\n",
    "    \n",
    "    Outputs:\n",
    "    theta = hiperplano final\n",
    "    theta_0 = base del hiperplano final\n",
    "    \"\"\"\n",
    "    \n",
    "    n = X.shape[0]\n",
    "    sum_theta = 0\n",
    "    sum_theta_0 = 0\n",
    "    error = 10\n",
    "    t = 0\n",
    "    \n",
    "    while error >= eps and t < MAX:\n",
    "        # Guardar parametros en tiempo: t-1\n",
    "        theta_old = theta\n",
    "        theta_0_old = theta_0\n",
    "        \n",
    "        # Evaluacion de la suma para la actualizacion el descenso por gradiente\n",
    "        for i in range(n):\n",
    "            sum_theta += clasifica(X[i], Y[i], theta, theta_0)*Y[i]*X[i]\n",
    "            sum_theta_0 += clasifica(X[i], Y[i], theta, theta_0)*Y[i]\n",
    "        \n",
    "        # Descenso por gradiente\n",
    "        theta = theta - etha*((sum_theta/n) + lamb*theta)\n",
    "        theta_0= theta_0 - etha*((sum_theta_0/n))\n",
    "        \n",
    "        # Calculo del error\n",
    "        error = abs(jacob(X, Y, theta, theta_0, lamb) - jacob(X, Y, theta_old, theta_0_old, lamb))\n",
    "        t += 1\n",
    "    \n",
    "    jac = jacob(X, Y, theta, theta_0, lamb)\n",
    "    return theta, theta_0"
   ]
  },
  {
   "cell_type": "code",
   "execution_count": 24,
   "metadata": {},
   "outputs": [],
   "source": [
    "def CV_SVM(D, k, theta, theta_0, etha, lamb):\n",
    "    \"\"\" Funcion que realiza la validación cruzada para determinar con que hiperprámetros se minimiza el error\n",
    "    \n",
    "    Inputs:\n",
    "    df - Data frame del conjunto de entrenamiento\n",
    "    k - El número de subcojunto de datos en el cual se desea dividir el set de train\n",
    "    theta_ - Hiperparametro de iniciacion para la funcion de SVM\n",
    "    theta0: - Hiperparametro de iniciacion para la funcion de SVM\n",
    "    eta - Hiperparametro para la funcion de SVM\n",
    "    lambda_ - Hiperparametro para la funcion de SVM\n",
    "\n",
    "    Outputs:\n",
    "    resultados - Error promedio de clasificacion\n",
    "    \n",
    "    \"\"\"\n",
    "    \n",
    "    errors = []\n",
    "    n = D.shape[0]  # Para saber el número de renglones totales\n",
    "    n = int((n / k))  # Si k = 5 los chunks tienen 24 observaciones  \n",
    "    for i in range (0,k):\n",
    "        \n",
    "        init = n*i\n",
    "        fin = n*(i+1)\n",
    "        test_i = D.iloc[init:fin,:]\n",
    "        train_i = D.drop(test_i.index)\n",
    "        \n",
    "        X_train = train_i.iloc[:,0:4]\n",
    "        X_train = X_train.to_numpy()\n",
    "        Y_train = train_i.iloc[:,5]\n",
    "        Y_train = Y_train.to_numpy()\n",
    "        theta,theta_0 = SVM(X = X_train, Y = Y_train, theta = theta , theta_0 = theta_0, etha = etha, lamb = lamb)\n",
    "        \n",
    "        #Se calcula el error en esa primer corrida\n",
    "        \n",
    "        X_test = test_i.iloc[:,0:4]\n",
    "        X_test = X_test.to_numpy()\n",
    "        Y_test = test_i.iloc[:,5]\n",
    "        Y_test = Y_test.to_numpy()\n",
    "        error_i = error(X = X_test, Y = Y_test, theta = theta, theta_0 = theta_0)\n",
    "        errors.append(error_i)\n",
    "    \n",
    "    error_promedio = np.mean(errors)\n",
    "\n",
    "    return error_promedio"
   ]
  },
  {
   "cell_type": "code",
   "execution_count": 9,
   "metadata": {},
   "outputs": [],
   "source": [
    "def error(X, Y, theta, theta_0):\n",
    "    \"\"\" Evaluacion del error\n",
    "    \n",
    "    Inputs:\n",
    "    X - vector de caracteristicas numericas\n",
    "    Y - vector de etiquetas de las características (-1 o 1)\n",
    "    theta = vector\n",
    "    theta_0 = escalar\n",
    "    \n",
    "    Outputs:\n",
    "    error_prom - error promedio de las observaciones que son mal clasificadas\n",
    "    \n",
    "    \"\"\"\n",
    "    \n",
    "    n = len(X)\n",
    "    suma = 0\n",
    "    error_prom = 0\n",
    "    \n",
    "    X = np.squeeze(np.asarray(X))\n",
    "    Y = np.squeeze(np.asarray(Y))\n",
    "    \n",
    "    for i in np.arange(n):\n",
    "        clasificador = Y[i]*((np.dot(theta,X[i])) + theta_0)\n",
    "        if clasificador <= 0:\n",
    "            suma += 1         \n",
    "    error_prom += suma\n",
    "    \n",
    "    error_prom = error_prom/n\n",
    "    \n",
    "    return error_prom"
   ]
  },
  {
   "cell_type": "code",
   "execution_count": 10,
   "metadata": {},
   "outputs": [],
   "source": [
    "def SGD(X, Y, lamb, eps = 1e-8, T = 5000):\n",
    "    \"\"\" Funcion que los parámetros del modelo perceptron \n",
    "    Inputs:\n",
    "    X_array - arreglo de caracteristicas numericas\n",
    "    y_array - arreglo etiquetas de las características (-1 o 1)\n",
    "    Nota: se asume que X y y tienen la misma cantidad de registros\n",
    "    \n",
    "    T -  Número de iteraciones\n",
    "    lambda_ - Párametro lambda \n",
    "    \n",
    "    Outputs:\n",
    "    theta_t - parámetro theta e intercepto (theta_t[-1])\n",
    "    \n",
    "    \"\"\"\n",
    "    \n",
    "    n = X.shape[0]\n",
    "    X = np.matrix(X)\n",
    "    ones = np.matrix(np.ones((X.shape[0],1)))\n",
    "    X = np.append(X, ones, axis=1)\n",
    "    Y = np.matrix(Y).reshape(Y.shape[0],1)\n",
    "    theta_t = np.matrix(np.zeros(X.shape[1]))\n",
    "    \n",
    "    for t in range(T):\n",
    "        i = np.random.randint(n)\n",
    "        etha = 1/(t+1)\n",
    "        theta_t = np.squeeze(np.asarray(theta_t))\n",
    "        x_i = np.squeeze(np.asarray(X[i]))\n",
    "        \n",
    "        if np.dot(theta_t,x_i)*Y[i] < 1:\n",
    "            l_h =  -1\n",
    "        else:\n",
    "            l_h =  0\n",
    "        \n",
    "        theta_t = theta_t - etha*(l_h*Y[i]*x_i + (lamb)*theta_t)\n",
    "        \n",
    "    return np.array(theta_t)"
   ]
  },
  {
   "cell_type": "code",
   "execution_count": 11,
   "metadata": {},
   "outputs": [],
   "source": [
    "def CV_SGD(D, k, lamb):\n",
    "    \"\"\" Funcion que realiza la validación cruzada para determinar con que hiperprámetros se minimiza el error\n",
    "    Inputs:\n",
    "    df - Data frame del conjunto de entrenamiento\n",
    "    k - El número de subcojunto de datos en el cual se desea dividir el set de train\n",
    "\n",
    "    Outputs:\n",
    "    resultados - Un data frame que arroja los errores para cada k \n",
    "    \"\"\"\n",
    "    \n",
    "    errors = []\n",
    "    n = D.shape[0]\n",
    "    n = int((n / k))\n",
    "    \n",
    "    for i in range (0,k):\n",
    "        init = n*i\n",
    "        fin = n*(1+i)\n",
    "        test_i = D.iloc[init:fin,:]\n",
    "        train_i = D.drop(test_i.index)\n",
    "        \n",
    "        # Calcular theta y theta_0 con SGD y train\n",
    "        X = train_i.iloc[:,0:4]\n",
    "        Y = train_i.iloc[:,5]\n",
    "        theta_t = SGD(X = X, Y = Y, lamb = lamb)\n",
    "        theta = theta_t[0,0:-1]\n",
    "        theta_0 = theta_t[0,-1]\n",
    "        \n",
    "        #Se calcula el error en esa primer corrida\n",
    "        X = test_i.iloc[:,0:4]   #Columna con las 4 características\n",
    "        Y = test_i.iloc[:,5]    #Columna con el vector de etiquetas\n",
    "        e_i = error(X = X, Y = Y, theta = theta, theta_0 = theta_0)\n",
    "        errors.append(e_i)\n",
    "    \n",
    "    error_promedio = np.mean(errors)\n",
    "\n",
    "    return error_promedio"
   ]
  },
  {
   "cell_type": "code",
   "execution_count": 12,
   "metadata": {},
   "outputs": [],
   "source": [
    "# Separar datos para prueba y entrenamiento\n",
    "np.random.seed(2020)\n",
    "train = data.sample(frac = 0.8, random_state = 2020) # Fijamos la semilla con random_state\n",
    "test = data.drop(train.index)"
   ]
  },
  {
   "cell_type": "code",
   "execution_count": 13,
   "metadata": {},
   "outputs": [
    {
     "name": "stdout",
     "output_type": "stream",
     "text": [
      "[0.0, 0.0, 0.0, 0.0, 0.0]\n"
     ]
    }
   ],
   "source": [
    "# Probar SGD\n",
    "error_sgd = []\n",
    "lambdas = [1e-4, 1e-3, 1e-2,  1e-1,  1]\n",
    "for lamb in lambdas:\n",
    "    error_sgd.append(CV_SGD(D = train, k = 5, lamb = lamb))\n",
    "\n",
    "print(error_sgd)"
   ]
  },
  {
   "cell_type": "code",
   "execution_count": 14,
   "metadata": {},
   "outputs": [
    {
     "data": {
      "text/plain": [
       "[<matplotlib.lines.Line2D at 0x7f94f24a2c18>]"
      ]
     },
     "execution_count": 14,
     "metadata": {},
     "output_type": "execute_result"
    },
    {
     "data": {
      "image/png": "[encoded data removed]",
      "text/plain": [
       "<Figure size 432x288 with 1 Axes>"
      ]
     },
     "metadata": {
      "needs_background": "light"
     },
     "output_type": "display_data"
    }
   ],
   "source": [
    "plt.plot((lambdas), (error_sgd))"
   ]
  },
  {
   "cell_type": "code",
   "execution_count": 15,
   "metadata": {},
   "outputs": [
    {
     "name": "stdout",
     "output_type": "stream",
     "text": [
      "[ 0.07138148  1.53862499 -1.81551524 -0.64653109]\n",
      "0.2478660096278402\n"
     ]
    }
   ],
   "source": [
    "np.random.seed(2020)\n",
    "theta_t = SGD(X = test.iloc[:,0:4], Y = test.iloc[:,5], lamb = 0.001, T=1000)\n",
    "theta_SGD = theta_t[0,0:-1]\n",
    "theta_0_SGD = theta_t[0,-1]\n",
    "print(theta_SGD)\n",
    "print(theta_0_SGD)"
   ]
  },
  {
   "cell_type": "code",
   "execution_count": 36,
   "metadata": {},
   "outputs": [],
   "source": [
    "# Separar datos para prueba y entrenamiento\n",
    "np.random.seed(2020)\n",
    "train = data.sample(frac = 0.8, random_state = 2020) # Fijamos la semilla con random_state\n",
    "test = data.drop(train.index)\n",
    "\n",
    "# Extraer variables para la clasificación\n",
    "data_vars = train.iloc[:,0:4]\n",
    "vars_train = data_vars.to_numpy()\n",
    "data_labels = train.iloc[:,5]\n",
    "labels_train = data_labels.to_numpy()\n",
    "\n",
    "test_vars = test.iloc[:,0:4]\n",
    "vars_test = test_vars.to_numpy()\n",
    "test_labels = test.iloc[:,5]\n",
    "labels_test = test_labels.to_numpy()\n",
    "\n",
    "\n",
    "theta = np.array([0.0, 0.0, 0.0, 0.0])\n",
    "theta_0 = 0.0\n",
    "etha = 0.0001\n",
    "lamb = 0.0001"
   ]
  },
  {
   "cell_type": "code",
   "execution_count": 25,
   "metadata": {},
   "outputs": [
    {
     "name": "stdout",
     "output_type": "stream",
     "text": [
      "[0.0, 0.0, 0.0, 0.0, 0.008333333333333333]\n"
     ]
    }
   ],
   "source": [
    "error_SVM=[]\n",
    "lambdas = [1e-4, 1e-3, 1e-2,  1e-1,  1]\n",
    "for lamb in lambdas:\n",
    "    error_SVM.append(CV_SVM(D = train, k = 5, theta = theta, theta_0 = theta_0, etha = etha, lamb = lamb))\n",
    "print(error_SVM)"
   ]
  },
  {
   "cell_type": "code",
   "execution_count": 27,
   "metadata": {},
   "outputs": [
    {
     "data": {
      "text/plain": [
       "[<matplotlib.lines.Line2D at 0x7f94f1d7b5c0>]"
      ]
     },
     "execution_count": 27,
     "metadata": {},
     "output_type": "execute_result"
    },
    {
     "data": {
      "image/png": "[encoded data removed]",
      "text/plain": [
       "<Figure size 432x288 with 1 Axes>"
      ]
     },
     "metadata": {
      "needs_background": "light"
     },
     "output_type": "display_data"
    }
   ],
   "source": [
    "plt.plot(lambdas, error_SVM)"
   ]
  },
  {
   "cell_type": "code",
   "execution_count": 35,
   "metadata": {},
   "outputs": [
    {
     "name": "stdout",
     "output_type": "stream",
     "text": [
      "[  8.34218174  20.85576294 -31.01597078 -14.73339556]\n",
      "[4.19432833]\n",
      "Jacobiano evaluado en parámetros óptimos:  0.02051595861769767\n"
     ]
    }
   ],
   "source": [
    "theta_SVM, theta_0_SVM = SVM(X = vars_train, Y = labels_train, \n",
    "                             theta = np.array([0.0, 0.0, 0.0, 0.0]), theta_0 = np.array([0.0]),\n",
    "                             etha = 1e-4, lamb = 1e-4)\n",
    "print(theta_SVM)\n",
    "print(theta_0_SVM)\n",
    "print('Jacobiano evaluado en parámetros óptimos: ', jacob(X = vars_train, Y = labels_train, \n",
    "                                                         theta = theta_SVM, \n",
    "                                                          theta_0 = theta_0_SVM, lamb = 1e-3))"
   ]
  },
  {
   "cell_type": "code",
   "execution_count": 38,
   "metadata": {},
   "outputs": [
    {
     "name": "stdout",
     "output_type": "stream",
     "text": [
      "0.0\n"
     ]
    }
   ],
   "source": [
    "print(error(vars_test,labels_test, theta_SVM, theta_0_SVM))"
   ]
  },
  {
   "cell_type": "code",
   "execution_count": 41,
   "metadata": {},
   "outputs": [],
   "source": [
    "theta_sgd = SGD(X = vars_train, Y = labels_train, lamb = lamb, eps = 1e-8, T = 5000)"
   ]
  },
  {
   "cell_type": "code",
   "execution_count": 43,
   "metadata": {},
   "outputs": [
    {
     "name": "stdout",
     "output_type": "stream",
     "text": [
      "[[ 0.43078276  1.69859461 -3.54360698 -1.83438732  0.38822382]]\n"
     ]
    }
   ],
   "source": [
    "print(theta_sgd)"
   ]
  }
 ],
 "metadata": {
  "kernelspec": {
   "display_name": "Python 3",
   "language": "python",
   "name": "python3"
  },
  "language_info": {
   "codemirror_mode": {
    "name": "ipython",
    "version": 3
   },
   "file_extension": ".py",
   "mimetype": "text/x-python",
   "name": "python",
   "nbconvert_exporter": "python",
   "pygments_lexer": "ipython3",
   "version": "3.6.9"
  }
 },
 "nbformat": 4,
 "nbformat_minor": 4
}
